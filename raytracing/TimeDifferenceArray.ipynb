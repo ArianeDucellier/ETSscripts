{
 "cells": [
  {
   "cell_type": "markdown",
   "metadata": {
    "collapsed": true
   },
   "source": [
    "# Ray Tracing: Is our analytical approach going to work?\n",
    "\n",
    "# Second question: At which time lags should we expect to see a peak in the auto / cross correlation signal?"
   ]
  },
  {
   "cell_type": "markdown",
   "metadata": {},
   "source": [
    "To answer this question, we are going to compute the time difference between the direct P/S wave arrival, and the PPP and SH waves reflected off the mid-slab discontinuity, and the PPSSS and SH waves reflected off the Moho."
   ]
  },
  {
   "cell_type": "markdown",
   "metadata": {},
   "source": [
    "Load Python modules."
   ]
  },
  {
   "cell_type": "code",
   "execution_count": 1,
   "metadata": {},
   "outputs": [],
   "source": [
    "import numpy\n",
    "from math import sqrt"
   ]
  },
  {
   "cell_type": "markdown",
   "metadata": {},
   "source": [
    "Load functions from my own ray-tracing related modules."
   ]
  },
  {
   "cell_type": "code",
   "execution_count": 2,
   "metadata": {},
   "outputs": [],
   "source": [
    "from computeAngle import computeAngle3, computeAngle5\n",
    "from computeTravelTime import computeTravelTime3, computeTravelTime5\n",
    "from misc import latLon2xy"
   ]
  },
  {
   "cell_type": "markdown",
   "metadata": {},
   "source": [
    "Get P- and S-wave velocities in the continental crust."
   ]
  },
  {
   "cell_type": "code",
   "execution_count": 3,
   "metadata": {},
   "outputs": [],
   "source": [
    "from data import VpCC, VsCC"
   ]
  },
  {
   "cell_type": "markdown",
   "metadata": {},
   "source": [
    "Get latitudes, longitudes and names of the arrays."
   ]
  },
  {
   "cell_type": "code",
   "execution_count": 4,
   "metadata": {},
   "outputs": [],
   "source": [
    "from data import lat_a, lon_a, names_a, na"
   ]
  },
  {
   "cell_type": "markdown",
   "metadata": {},
   "source": [
    "Get latitudes, longitudes and depths of the tremor sources."
   ]
  },
  {
   "cell_type": "code",
   "execution_count": 5,
   "metadata": {},
   "outputs": [],
   "source": [
    "from data import lat_s, lon_s, d_s, ns"
   ]
  },
  {
   "cell_type": "markdown",
   "metadata": {},
   "source": [
    "Get latitude and longitude of the center of the (tremor sources) grid."
   ]
  },
  {
   "cell_type": "code",
   "execution_count": 6,
   "metadata": {},
   "outputs": [],
   "source": [
    "from data import lat0, lon0"
   ]
  },
  {
   "cell_type": "markdown",
   "metadata": {},
   "source": [
    "Compute the distances from the arrays to the center of the (tremor sources) grid."
   ]
  },
  {
   "cell_type": "code",
   "execution_count": 7,
   "metadata": {},
   "outputs": [],
   "source": [
    "(x_a, y_a) = latLon2xy(lat_a, lon_a, lat0, lon0)"
   ]
  },
  {
   "cell_type": "markdown",
   "metadata": {},
   "source": [
    "Compute the distances from the tremor sources to the center of the (tremor sources) grid"
   ]
  },
  {
   "cell_type": "code",
   "execution_count": 8,
   "metadata": {},
   "outputs": [],
   "source": [
    "(x_s, y_s) = latLon2xy(lat_s, lon_s, lat0, lon0)"
   ]
  },
  {
   "cell_type": "markdown",
   "metadata": {},
   "source": [
    "Initializations"
   ]
  },
  {
   "cell_type": "code",
   "execution_count": 9,
   "metadata": {},
   "outputs": [],
   "source": [
    "tP = numpy.zeros((na, ns))\n",
    "tS = numpy.zeros((na, ns))\n",
    "tPPP = numpy.zeros((na, ns))\n",
    "t3SH = numpy.zeros((na, ns))\n",
    "tPPSSS = numpy.zeros((na, ns))\n",
    "t5SH = numpy.zeros((na, ns))"
   ]
  },
  {
   "cell_type": "markdown",
   "metadata": {},
   "source": [
    "Open output file"
   ]
  },
  {
   "cell_type": "code",
   "execution_count": 10,
   "metadata": {},
   "outputs": [],
   "source": [
    "output = open('TimeDifferenceArray.txt', 'w')"
   ]
  },
  {
   "cell_type": "markdown",
   "metadata": {},
   "source": [
    "Loop on arrays"
   ]
  },
  {
   "cell_type": "code",
   "execution_count": 11,
   "metadata": {},
   "outputs": [],
   "source": [
    "for i in range(0, na):\n",
    "    output.write('Array {}:\\n'.format(names_a[i]))\n",
    "    output.write('---------\\n')\n",
    "    # Loop on source position\n",
    "    for j in range(0, ns):\n",
    "        # Ray P\n",
    "        tP[i, j] = sqrt((x_a[i] - x_s[j]) ** 2.0 + (y_a[i] - y_s[j]) ** 2.0 + d_s[j] ** 2.0) / VpCC\n",
    "        # Ray S\n",
    "        tS[i, j] = sqrt((x_a[i] - x_s[j]) ** 2.0 + (y_a[i] - y_s[j]) ** 2.0 + d_s[j] ** 2.0) / VsCC\n",
    "        # Ray PPP\n",
    "        angle = computeAngle3(x_s[j], y_s[j], d_s[j], x_a[i], y_a[i], 'P', 'P', 'P')\n",
    "        tPPP[i, j] = computeTravelTime3(angle, x_s[j], y_s[j], d_s[j], x_a[i], y_a[i], 'P', 'P', 'P')\n",
    "        # Ray 3SH\n",
    "        angle = computeAngle3(x_s[j], y_s[j], d_s[j], x_a[i], y_a[i], 'S', 'S', 'S')\n",
    "        t3SH[i, j] = computeTravelTime3(angle, x_s[j], y_s[j], d_s[j], x_a[i], y_a[i], 'S', 'S', 'S')\n",
    "        # Ray PPSSS\n",
    "        angle = computeAngle5(x_s[j], y_s[j], d_s[j], x_a[i], y_a[i], 'P', 'P', 'S', 'S', 'S')\n",
    "        tPPSSS[i, j] = computeTravelTime5(angle, x_s[j], y_s[j], d_s[j], x_a[i], y_a[i], 'P', 'P', 'S', 'S', 'S')\n",
    "        # Ray 5SH\n",
    "        angle = computeAngle5(x_s[j], y_s[j], d_s[j], x_a[i], y_a[i], 'S', 'S', 'S', 'S', 'S')\n",
    "        t5SH[i, j] = computeTravelTime5(angle, x_s[j], y_s[j], d_s[j], x_a[i], y_a[i], 'S', 'S', 'S', 'S', 'S')\n",
    "\n",
    "    output.write('Autocorrelation - Horizontal component\\n')\n",
    "    output.write('\\n')\n",
    "    output.write('Time difference between S-wave and SH-wave (mid-slab)\\n')\n",
    "    output.write('Min value: {} s\\n'.format(numpy.min(t3SH[i, :] - tS[i, :])))\n",
    "    output.write('Max value: {} s\\n'.format(numpy.max(t3SH[i, :] - tS[i, :])))\n",
    "    output.write('Mean value: {} s\\n'.format(numpy.mean(t3SH[i, :] - tS[i, :])))\n",
    "    output.write('\\n')\n",
    "    output.write('Time difference between S-wave and SH-wave (Moho)\\n')\n",
    "    output.write('Min value: {} s\\n'.format(numpy.min(t5SH[i, :] - tS[i, :])))\n",
    "    output.write('Max value: {} s\\n'.format(numpy.max(t5SH[i, :] - tS[i, :])))\n",
    "    output.write('Mean value: {} s\\n'.format(numpy.mean(t5SH[i, :] - tS[i, :])))\n",
    "    output.write('\\n')\n",
    "    output.write('Time difference between S-wave and PPSSS-wave\\n')\n",
    "    output.write('Min value: {} s\\n'.format(numpy.min(tPPSSS[i, :] - tS[i, :])))\n",
    "    output.write('Max value: {} s\\n'.format(numpy.max(tPPSSS[i, :] - tS[i, :])))\n",
    "    output.write('Mean value: {} s\\n'.format(numpy.mean(tPPSSS[i, :] - tS[i, :])))\n",
    "    output.write('\\n')\n",
    "\n",
    "    output.write('Autocorrelation - Vertical component\\n')\n",
    "    output.write('\\n')\n",
    "    output.write('Time difference between P-wave and PPP-wave\\n')\n",
    "    output.write('Min value: {} s\\n'.format(numpy.min(tPPP[i, :] - tP[i, :])))\n",
    "    output.write('Max value: {} s\\n'.format(numpy.max(tPPP[i, :] - tP[i, :])))\n",
    "    output.write('Mean value: {} s\\n'.format(numpy.mean(tPPP[i, :] - tP[i, :])))\n",
    "    output.write('\\n')\n",
    "\n",
    "    output.write('Cross correlation - Horizontal and vertical component\\n')\n",
    "    output.write('\\n')\n",
    "    output.write('Time difference between S-wave and P-wave\\n')\n",
    "    output.write('Min value: {} s\\n'.format(numpy.min(tS[i, :] - tP[i, :])))\n",
    "    output.write('Max value: {} s\\n'.format(numpy.max(tS[i, :] - tP[i, :])))\n",
    "    output.write('Mean value: {} s\\n'.format(numpy.mean(tS[i, :] - tP[i, :])))\n",
    "    output.write('\\n')   \n",
    "    output.write('Time difference between S-wave and PPP-wave\\n')\n",
    "    output.write('Min value: {} s\\n'.format(numpy.min(tS[i, :] - tPPP[i, :])))\n",
    "    output.write('Max value: {} s\\n'.format(numpy.max(tS[i, :] - tPPP[i, :])))\n",
    "    output.write('Mean value: {} s\\n'.format(numpy.mean(tS[i, :] - tPPP[i, :])))\n",
    "    output.write('\\n')\n",
    "    output.write('Time difference between SH-wave (mid-slab) and P-wave\\n')\n",
    "    output.write('Min value: {} s\\n'.format(numpy.min(t3SH[i, :] - tP[i, :])))\n",
    "    output.write('Max value: {} s\\n'.format(numpy.max(t3SH[i, :] - tP[i, :])))\n",
    "    output.write('Mean value: {} s\\n'.format(numpy.mean(t3SH[i, :] - tP[i, :])))\n",
    "    output.write('\\n')\n",
    "    output.write('Time difference between PPSSS-wave and P-wave\\n')\n",
    "    output.write('Min value: {} s\\n'.format(numpy.min(tPPSSS[i, :] - tP[i, :])))\n",
    "    output.write('Max value: {} s\\n'.format(numpy.max(tPPSSS[i, :] - tP[i, :])))\n",
    "    output.write('Mean value: {} s\\n'.format(numpy.mean(tPPSSS[i, :] - tP[i, :])))\n",
    "    output.write('\\n')   \n",
    "    output.write('Time difference between SH-wave (Moho) and P-wave\\n')\n",
    "    output.write('Min value: {} s\\n'.format(numpy.min(t5SH[i, :] - tP[i, :])))\n",
    "    output.write('Max value: {} s\\n'.format(numpy.max(t5SH[i, :] - tP[i, :])))\n",
    "    output.write('Mean value: {} s\\n'.format(numpy.mean(t5SH[i, :] - tP[i, :])))\n",
    "    output.write('\\n')"
   ]
  },
  {
   "cell_type": "markdown",
   "metadata": {},
   "source": [
    "Average on all arrays."
   ]
  },
  {
   "cell_type": "code",
   "execution_count": 12,
   "metadata": {},
   "outputs": [
    {
     "data": {
      "text/plain": [
       "1"
      ]
     },
     "execution_count": 12,
     "metadata": {},
     "output_type": "execute_result"
    }
   ],
   "source": [
    "output.write('All arrays:\\n')\n",
    "output.write('---------  \\n')\n",
    "\n",
    "output.write('Autocorrelation - Horizontal component\\n')\n",
    "output.write('\\n')\n",
    "output.write('Time difference between S-wave and SH-wave (mid-slab)\\n')\n",
    "output.write('Min value: {} s\\n'.format(numpy.min(t3SH - tS)))\n",
    "output.write('Max value: {} s\\n'.format(numpy.max(t3SH - tS)))\n",
    "output.write('Mean value: {} s\\n'.format(numpy.mean(t3SH - tS)))\n",
    "output.write('\\n')\n",
    "output.write('Time difference between S-wave and SH-wave (Moho)\\n')\n",
    "output.write('Min value: {} s\\n'.format(numpy.min(t5SH - tS)))\n",
    "output.write('Max value: {} s\\n'.format(numpy.max(t5SH - tS)))\n",
    "output.write('Mean value: {} s\\n'.format(numpy.mean(t5SH - tS)))\n",
    "output.write('\\n')\n",
    "output.write('Time difference between S-wave and PPSSS-wave\\n')\n",
    "output.write('Min value: {} s\\n'.format(numpy.min(tPPSSS - tS)))\n",
    "output.write('Max value: {} s\\n'.format(numpy.max(tPPSSS - tS)))\n",
    "output.write('Mean value: {} s\\n'.format(numpy.mean(tPPSSS - tS)))\n",
    "output.write('\\n')\n",
    "\n",
    "output.write('Autocorrelation - Vertical component\\n')\n",
    "output.write('\\n')\n",
    "output.write('Time difference between P-wave and PPP-wave\\n')\n",
    "output.write('Min value: {} s\\n'.format(numpy.min(tPPP - tP)))\n",
    "output.write('Max value: {} s\\n'.format(numpy.max(tPPP - tP)))\n",
    "output.write('Mean value: {} s\\n'.format(numpy.mean(tPPP - tP)))\n",
    "output.write('\\n')\n",
    "\n",
    "output.write('Cross correlation - Horizontal and vertical component\\n')\n",
    "output.write('\\n')\n",
    "output.write('Time difference between S-wave and P-wave\\n')\n",
    "output.write('Min value: {} s\\n'.format(numpy.min(tS - tP)))\n",
    "output.write('Max value: {} s\\n'.format(numpy.max(tS - tP)))\n",
    "output.write('Mean value: {} s\\n'.format(numpy.mean(tS - tP)))\n",
    "output.write('\\n')   \n",
    "output.write('Time difference between S-wave and PPP-wave\\n')\n",
    "output.write('Min value: {} s\\n'.format(numpy.min(tS - tPPP)))\n",
    "output.write('Max value: {} s\\n'.format(numpy.max(tS - tPPP)))\n",
    "output.write('Mean value: {} s\\n'.format(numpy.mean(tS - tPPP)))\n",
    "output.write('\\n')\n",
    "output.write('Time difference between SH-wave (mid-slab) and P-wave\\n')\n",
    "output.write('Min value: {} s\\n'.format(numpy.min(t3SH - tP)))\n",
    "output.write('Max value: {} s\\n'.format(numpy.max(t3SH - tP)))\n",
    "output.write('Mean value: {} s\\n'.format(numpy.mean(t3SH - tP)))\n",
    "output.write('\\n')\n",
    "output.write('Time difference between PPSSS-wave and P-wave\\n')\n",
    "output.write('Min value: {} s\\n'.format(numpy.min(tPPSSS - tP)))\n",
    "output.write('Max value: {} s\\n'.format(numpy.max(tPPSSS - tP)))\n",
    "output.write('Mean value: {} s\\n'.format(numpy.mean(tPPSSS - tP)))\n",
    "output.write('\\n')   \n",
    "output.write('Time difference between SH-wave (Moho) and P-wave\\n')\n",
    "output.write('Min value: {} s\\n'.format(numpy.min(t5SH - tP)))\n",
    "output.write('Max value: {} s\\n'.format(numpy.max(t5SH - tP)))\n",
    "output.write('Mean value: {} s\\n'.format(numpy.mean(t5SH - tP)))\n",
    "output.write('\\n')"
   ]
  },
  {
   "cell_type": "markdown",
   "metadata": {},
   "source": [
    "Close output file."
   ]
  },
  {
   "cell_type": "code",
   "execution_count": 13,
   "metadata": {},
   "outputs": [],
   "source": [
    "output.close()"
   ]
  },
  {
   "cell_type": "code",
   "execution_count": null,
   "metadata": {},
   "outputs": [],
   "source": []
  }
 ],
 "metadata": {
  "kernelspec": {
   "display_name": "Python 3",
   "language": "python",
   "name": "python3"
  },
  "language_info": {
   "codemirror_mode": {
    "name": "ipython",
    "version": 3
   },
   "file_extension": ".py",
   "mimetype": "text/x-python",
   "name": "python",
   "nbconvert_exporter": "python",
   "pygments_lexer": "ipython3",
   "version": "3.6.5"
  }
 },
 "nbformat": 4,
 "nbformat_minor": 2
}

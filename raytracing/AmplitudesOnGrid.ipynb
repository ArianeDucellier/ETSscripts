{
 "cells": [
  {
   "cell_type": "markdown",
   "metadata": {
    "collapsed": true
   },
   "source": [
    "# Ray Tracing: Is our analytical approach going to work?\n",
    "\n",
    "# First question: What is the amplitude of the direct and reflected waves as function of the distance and the azimuth from the station?"
   ]
  },
  {
   "cell_type": "markdown",
   "metadata": {},
   "source": [
    "## Research goal\n",
    "\n",
    "Hydration and dehydration of minerals in subduction zones play a key role in the geodynamic processes that generate seismicity and that allow tectonic plates to subduct. Detecting the presence of water in the subducted oceanic plate is thus crucial to better understand the seismogenesis and the consequent seismic hazard. A landward dipping, low velocity layer has been detected in most subduction zones. In Cascadia, this low velocity zone (LVZ) is characterized by a low S-wave velocity and a very high Poisson’s ratio, which has been interpreted as high pore fluid pressure in the upper half of the subducted oceanic crust.\n",
    "\n",
    "Most studies of the LVZ are based on seismic reflection imaging, receiver function analysis, or body wave tomography, with seismic sources located far from the LVZ. In contrast, the sources of the tectonic tremor generated during Episodic Tremor and Slip (ETS) events are located on the plate boundary. As the sources of the tremor are much closer to the LVZ, seismic waves recorded during ETS events should illuminate the area with greater precision than teleseismic data.\n",
    "\n",
    "Most methods to detect and locate tectonic tremor and low-frequency earthquakes (LFEs) are based on the cross correlation of seismic signals; either signals at the same station for different events, or the same event at different stations. In this research project, we intend to use the cross correlation of the seismic signal recorded by eight arrays of stations, located in the Olympic Peninsula, Washington. Each tremor, assumed to be on the plate boundary, generates a direct wave and several reflected and converted waves from both the strong shear-wave velocity contrast in the mid-oceanic crust, and from the Moho of the subducted oceanic crust. The time lag between the arrivals of these different waves at a seismic station corresponds to a peak of amplitude on the cross correlation signals.\n",
    "\n",
    "Using the time lags observed for different locations of the tremor source, we intend to invert for the seismic wave velocity of the subducted oceanic crust under the arrays of stations. Identifying zones with lower S-wave velocity and a high Poisson’s ratio will then help detecting the presence of water in the subducted oceanic crust. The ultimate goal of this project is to contribute to a better understanding of the mechanism of ETS, and of subduction zone processes."
   ]
  },
  {
   "cell_type": "markdown",
   "metadata": {},
   "source": [
    "## Analytical approach\n",
    "\n",
    "Several methods have been developed to detect and locate tectonic tremor or LFEs using the cross correlation of seismic signals. The main idea is to find similar waveforms in two different seismic signals, which could correspond to a single tremor or LFE recorded at two different stations, or two different tremor or LFEs with the same source location but occurring at two different times and recorded by the same station. A first method consists in comparing the envelopes of seismograms at different stations, or directly the seismograms at different stations. A second method is based on the assumption that repeating tremor or LFEs with sources located nearby in space will have similar waveforms. Finally, a third method uses seismograms recorded across small-aperture arrays.\n",
    "\n",
    "In this project, we intend to use a slightly modified approach. The available data come from eight small-aperture arrays installed in the eastern part of the Olympic Peninsula. The aperture of the arrays is about 1 km, and station spacing is a few hundred meters. The arrays are around 5 to 10 km apart from each other. Most of the arrays were installed for nearly a year and were able to record the main August 2010 and August 2011 ETS events. The time and locations of the tremor sources were all computed by Ghosh et al. (2012).\n",
    "\n",
    "Each tremor on the plate boundary generates a direct P-wave and P-to-P and S-to-P reflections off both the slab Moho and a mid-slab crustal discontinuity caused by the inferred strong velocity contrast between the hydrated basaltic upper oceanic crust, and the impermeable gabbroic lower oceanic crust. There is a time lag between the arrival of the direct wave and the arrivals of the reflected waves at a seismic station. By computing the cross correlation of the seismic signal recorded at the station, we expect to see an amplitude peak at each time lag corresponding to each phase arrival."
   ]
  },
  {
   "cell_type": "markdown",
   "metadata": {},
   "source": [
    "## First question\n",
    "\n",
    "To evaluate whether our analytical approach is going to work, several questions need to be answered. The first question is which are the phases that we can expect to see on the cross correlation signal, that is which phases have a high enough amplitude to be seen on the cross correlation signal.\n",
    "\n",
    "To answer this question, we are going to compute the expected amplitude of each of the different phases arriving at an array, for different positions of the tremor source on a grid.\n",
    "\n",
    "The phases are denoted as follows:\n",
    "\n",
    "- SPP = Downgoing S-wave in the upper oceanic crust, S-to-P conversion at the mid-slab discontinuity, upgoing P-wave in the upper oceanic crust, no conversion of the transmitted wave, upgoing P-wave in the continental crust.\n",
    "\n",
    "- SSPPP = Downgoing S-wave in the upper oceanic crust, no conversion of the transmitted wave, downgoing S-wave in the lower oceanic crust, S-to-P conversion at the Moho, upgoing P-wave in the lower oceanic crust, no conversion of the transmitted wave, upgoing P-wave in the upper oceanic crust, no conversion of the transmitted wave, upgoing P-wave in the continental crust."
   ]
  },
  {
   "cell_type": "markdown",
   "metadata": {},
   "source": [
    "## Python code\n",
    "\n",
    "Load Python modules."
   ]
  },
  {
   "cell_type": "code",
   "execution_count": 1,
   "metadata": {},
   "outputs": [],
   "source": [
    "import numpy"
   ]
  },
  {
   "cell_type": "markdown",
   "metadata": {},
   "source": [
    "Load functions from my own ray-tracing related modules."
   ]
  },
  {
   "cell_type": "code",
   "execution_count": 2,
   "metadata": {},
   "outputs": [],
   "source": [
    "from computeAmplitude import computeAmplitude3SH, computeAmplitude5SH, computeAmplitude3PSV, computeAmplitude5PSV\n",
    "from computeAngle import computeAngle3, computeAngle5\n",
    "from misc import latLon2xy, computeInitAmp"
   ]
  },
  {
   "cell_type": "markdown",
   "metadata": {},
   "source": [
    "Get latitudes, longitudes and names of the arrays."
   ]
  },
  {
   "cell_type": "code",
   "execution_count": 3,
   "metadata": {},
   "outputs": [],
   "source": [
    "from data import lat_a, lon_a, names_a, na"
   ]
  },
  {
   "cell_type": "markdown",
   "metadata": {},
   "source": [
    "Get latitudes, longitudes and depths of the tremor sources."
   ]
  },
  {
   "cell_type": "code",
   "execution_count": 4,
   "metadata": {},
   "outputs": [],
   "source": [
    "from data import lat_s, lon_s, d_s, ns"
   ]
  },
  {
   "cell_type": "markdown",
   "metadata": {},
   "source": [
    "Get latitude and longitude of the center of the (tremor sources) grid."
   ]
  },
  {
   "cell_type": "code",
   "execution_count": 5,
   "metadata": {},
   "outputs": [],
   "source": [
    "from data import lat0, lon0"
   ]
  },
  {
   "cell_type": "markdown",
   "metadata": {},
   "source": [
    "Compute the distances from the arrays to the center of the (tremor sources) grid."
   ]
  },
  {
   "cell_type": "code",
   "execution_count": 6,
   "metadata": {},
   "outputs": [],
   "source": [
    "(x_a, y_a) = latLon2xy(lat_a, lon_a, lat0, lon0)"
   ]
  },
  {
   "cell_type": "markdown",
   "metadata": {},
   "source": [
    "Compute the distances from the tremor sources to the center of the (tremor sources) grid."
   ]
  },
  {
   "cell_type": "code",
   "execution_count": 7,
   "metadata": {},
   "outputs": [],
   "source": [
    "(x_s, y_s) = latLon2xy(lat_s, lon_s, lat0, lon0)"
   ]
  },
  {
   "cell_type": "markdown",
   "metadata": {},
   "source": [
    "Initializations"
   ]
  },
  {
   "cell_type": "code",
   "execution_count": 8,
   "metadata": {},
   "outputs": [],
   "source": [
    "AP = numpy.zeros((na, ns))\n",
    "ASV = numpy.zeros((na, ns))\n",
    "ASH = numpy.zeros((na, ns))\n",
    "A3SH = numpy.zeros((na, ns))\n",
    "A5SH = numpy.zeros((na, ns))\n",
    "A3PSV = numpy.zeros((na, ns, 8))\n",
    "A5PSV = numpy.zeros((na, ns, 32))"
   ]
  },
  {
   "cell_type": "markdown",
   "metadata": {},
   "source": [
    "Types of wave"
   ]
  },
  {
   "cell_type": "code",
   "execution_count": 9,
   "metadata": {},
   "outputs": [],
   "source": [
    "wave = ('P', 'S')"
   ]
  },
  {
   "cell_type": "markdown",
   "metadata": {},
   "source": [
    "Open output file"
   ]
  },
  {
   "cell_type": "code",
   "execution_count": 10,
   "metadata": {},
   "outputs": [],
   "source": [
    "output = open('AmplitudesOnGrid.txt', 'w')"
   ]
  },
  {
   "cell_type": "markdown",
   "metadata": {},
   "source": [
    "Loop on arrays"
   ]
  },
  {
   "cell_type": "code",
   "execution_count": 11,
   "metadata": {},
   "outputs": [],
   "source": [
    "for i in range(0, na):\n",
    "    output.write('Array {}:\\n'.format(names_a[i]))\n",
    "    output.write('---------\\n')\n",
    "\n",
    "    # Direct waves\n",
    "    for j in range(0, ns):\n",
    "        AD = computeInitAmp(x_s[j], y_s[j], x_a[i], y_a[i], d_s[j], 'D')\n",
    "        AP[i, j] = AD[0]\n",
    "        ASV[i, j] = AD[1]\n",
    "        ASH[i, j] = AD[2]\n",
    "    output.write('Amplitude of direct P-wave\\n')\n",
    "    output.write('Min value: {}\\n'.format(numpy.min(abs(AP[i, :]))))\n",
    "    output.write('Max value: {}\\n'.format(numpy.max(abs(AP[i, :]))))\n",
    "    output.write('Mean value: {}\\n'.format(numpy.mean(abs(AP[i, :]))))\n",
    "    output.write('\\n')\n",
    "    output.write('Amplitude of direct SV-wave\\n')\n",
    "    output.write('Min value: {}\\n'.format(numpy.min(abs(ASV[i, :]))))\n",
    "    output.write('Max value: {}\\n'.format(numpy.max(abs(ASV[i, :]))))\n",
    "    output.write('Mean value: {}\\n'.format(numpy.mean(abs(ASV[i, :]))))\n",
    "    output.write('\\n')\n",
    "    output.write('Amplitude of direct SH-wave\\n')\n",
    "    output.write('Min value: {}\\n'.format(numpy.min(abs(ASH[i, :]))))\n",
    "    output.write('Max value: {}\\n'.format(numpy.max(abs(ASH[i, :]))))\n",
    "    output.write('Mean value: {}\\n'.format(numpy.mean(abs(ASH[i, :]))))\n",
    "    output.write('\\n')\n",
    "\n",
    "    # Reflected SH-wave on mid-slab discontinuity\n",
    "    for j in range(0, ns):\n",
    "        angle = computeAngle3(x_s[j], y_s[j], d_s[j], x_a[i], y_a[i], 'S', 'S', 'S')\n",
    "        A3SH[i, j] = computeAmplitude3SH(angle, x_s[j], y_s[j], x_a[i], y_a[i])\n",
    "        AR = computeInitAmp(x_s[j], y_s[j], x_a[i], y_a[i], d_s[j], 'R', angle)\n",
    "        A3SH[i, j] = A3SH[i, j] * AR[2]\n",
    "    output.write('Amplitude of SH-wave (mid-slab)\\n')\n",
    "    output.write('Min value: {}\\n'.format(numpy.min(abs(A3SH[i, :]))))\n",
    "    output.write('Max value: {}\\n'.format(numpy.max(abs(A3SH[i, :]))))\n",
    "    output.write('Mean value: {}\\n'.format(numpy.mean(abs(A3SH[i, :]))))\n",
    "    output.write('\\n')\n",
    "\n",
    "    # Reflected SH-wave on Moho\n",
    "    for j in range(0, ns):\n",
    "        angle = computeAngle5(x_s[j], y_s[j], d_s[j], x_a[i], y_a[i], 'S', 'S', 'S', 'S', 'S')\n",
    "        A5SH[i, j] = computeAmplitude5SH(angle, x_s[j], y_s[j], x_a[i], y_a[i])\n",
    "        AR = computeInitAmp(x_s[j], y_s[j], x_a[i], y_a[i], d_s[j], 'R', angle)\n",
    "        A5SH[i, j] = A5SH[i, j] * AR[2]\n",
    "    output.write('Amplitude of SH-wave (Moho)\\n')\n",
    "    output.write('Min value: {}\\n'.format(numpy.min(abs(A5SH[i, :]))))\n",
    "    output.write('Max value: {}\\n'.format(numpy.max(abs(A5SH[i, :]))))\n",
    "    output.write('Mean value: {}\\n'.format(numpy.mean(abs(A5SH[i, :]))))\n",
    "    output.write('\\n')\n",
    "\n",
    "    # Reflected wave on mid-slab discontinuity\n",
    "    # Downgoing wave in upper oceanic crust\n",
    "    for k1 in range(0, 2):\n",
    "        # Upgoing wave in upper oceanic crust\n",
    "        for k2 in range(0, 2):\n",
    "            # Upgoing wave in continental crust\n",
    "            for k3 in range(0, 2):\n",
    "                k = k1 * 1 + k2 * 2 + k3 * 4\n",
    "                # Loop on source position\n",
    "                for j in range(0, ns):\n",
    "                    angle = computeAngle3(x_s[j], y_s[j], d_s[j], \\\n",
    "                            x_a[i], y_a[i], wave[k1], wave[k2], wave[k3])\n",
    "                    A3PSV[i, j, k] = computeAmplitude3PSV(angle, x_s[j], y_s[j], \\\n",
    "                                     x_a[i], y_a[i], wave[k1], wave[k2], wave[k3])\n",
    "                    AR = computeInitAmp(x_s[j], y_s[j], x_a[i], y_a[i], d_s[j], 'R', angle)\n",
    "                    if (k1 == 0):\n",
    "                        A3PSV[i, j, k] = A3PSV[i, j, k] * AR[0]\n",
    "                    else:\n",
    "                        A3PSV[i, j, k] = A3PSV[i, j, k] * AR[1]\n",
    "                output.write('Amplitude of ray {}{}{}\\n'.format(wave[k1], wave[k2], wave[k3]))\n",
    "                output.write('Min value: {}\\n'.format(numpy.min(abs(A3PSV[i, :, k]))))\n",
    "                output.write('Max value: {}\\n'.format(numpy.max(abs(A3PSV[i, :, k]))))\n",
    "                output.write('Mean value: {}\\n'.format(numpy.mean(abs(A3PSV[i, :, k]))))\n",
    "                output.write('\\n')\n",
    "\n",
    "    # Reflected wave on Moho\n",
    "    # Downgoing wave in upper oceanic crust\n",
    "    for k1 in range(0, 2):\n",
    "        # Downgoing wave in lower oceanic crust\n",
    "        for k2 in range(0, 2):\n",
    "            # Upgoing wave in lower oceanic crust\n",
    "            for k3 in range(0, 2):\n",
    "                # Upgoing wave in upper oceanic crust\n",
    "                for k4 in range(0, 2):\n",
    "                    # Upgoing wave in continental crust\n",
    "                    for k5 in range(0, 2):\n",
    "                        k = k1 * 1 + k2 * 2 + k3 * 4 + k4 * 8 + k5 * 16\n",
    "                        # Loop on source position\n",
    "                        for j in range(0, ns):\n",
    "                            angle = computeAngle5(x_s[j], y_s[j], d_s[j], \\\n",
    "                                    x_a[i], y_a[i], wave[k1], wave[k2], wave[k3], wave[k4], wave[k5])\n",
    "                            A5PSV[i, j, k] = computeAmplitude5PSV(angle, x_s[j], y_s[j], \\\n",
    "                                             x_a[i], y_a[i], wave[k1], wave[k2], wave[k3], wave[k4], wave[k5])\n",
    "                            AR = computeInitAmp(x_s[j], y_s[j], x_a[i], y_a[i], d_s[j], 'R', angle)\n",
    "                            if (k1 == 0):\n",
    "                                A5PSV[i, j, k] = A5PSV[i, j, k] * AR[0]\n",
    "                            else:\n",
    "                                A5PSV[i, j, k] = A5PSV[i, j, k] * AR[1]\n",
    "                        output.write('Amplitude of ray {}{}{}{}{}\\n'. format(wave[k1], wave[k2], wave[k3], wave[k4], wave[k5]))\n",
    "                        output.write('Min value: {}\\n'.format(numpy.min(abs(A5PSV[i, :, k]))))\n",
    "                        output.write('Max value: {}\\n'.format(numpy.max(abs(A5PSV[i, :, k]))))\n",
    "                        output.write('Mean value: {}\\n'.format(numpy.mean(abs(A5PSV[i, :, k]))))\n",
    "                        output.write('\\n')\n",
    "\n",
    "    # Peaks visible on auto / cross correlation plots\n",
    "    output.write('Autocorrelation - Horizontal component\\n')\n",
    "    output.write('\\n')\n",
    "    output.write('Ratio SH-wave (mid-slab) / direct SH-wave\\n')\n",
    "    output.write('Min value: {}\\n'.format(numpy.min(abs(A3SH[i, :] / ASH[i, :]))))\n",
    "    output.write('Max value: {}\\n'.format(numpy.max(abs(A3SH[i, :] / ASH[i, :]))))\n",
    "    output.write('Mean value: {}\\n'.format(numpy.mean(abs(A3SH[i, :] / ASH[i, :]))))\n",
    "    output.write('\\n')\n",
    "    output.write('Ratio SH-wave (Moho) / direct SH-wave\\n')\n",
    "    output.write('Min value: {}\\n'.format(numpy.min(abs(A5SH[i, :] / ASH[i, :]))))\n",
    "    output.write('Max value: {}\\n'.format(numpy.max(abs(A5SH[i, :] / ASH[i, :]))))\n",
    "    output.write('Mean value: {}\\n'.format(numpy.mean(abs(A5SH[i, :] / ASH[i, :]))))\n",
    "    output.write('\\n')\n",
    "    for k1 in range(0, 2):\n",
    "        for k2 in range(0, 2):\n",
    "            k3 = 1\n",
    "            k = k1 * 1 + k2 * 2 + k3 * 4\n",
    "            output.write('Ratio of ray {}{}{} / direct SV-wave\\n'.format(wave[k1], wave[k2], wave[k3]))\n",
    "            output.write('Min value: {}\\n'.format(numpy.min(abs(A3PSV[i, :, k] / ASV[i, :]))))\n",
    "            output.write('Max value: {}\\n'.format(numpy.max(abs(A3PSV[i, :, k] / ASV[i, :]))))\n",
    "            output.write('Mean value: {}\\n'.format(numpy.mean(abs(A3PSV[i, :, k] / ASV[i, :]))))\n",
    "            output.write('\\n')\n",
    "    for k1 in range(0, 2):\n",
    "        for k2 in range(0, 2):\n",
    "            for k3 in range(0, 2):\n",
    "                for k4 in range(0, 2):\n",
    "                    k5 = 1\n",
    "                    k = k1 * 1 + k2 * 2 + k3 * 4 + k4 * 8 + k5 * 16\n",
    "                    output.write('Ratio of ray {}{}{}{}{} / direct SV-wave\\n'. format(wave[k1], wave[k2], wave[k3], wave[k4], wave[k5]))\n",
    "                    output.write('Min value: {}\\n'.format(numpy.min(abs(A5PSV[i, :, k] / ASV[i, :]))))\n",
    "                    output.write('Max value: {}\\n'.format(numpy.max(abs(A5PSV[i, :, k] / ASV[i, :]))))\n",
    "                    output.write('Mean value: {}\\n'.format(numpy.mean(abs(A5PSV[i, :, k] / ASV[i, :]))))\n",
    "                    output.write('\\n')\n",
    "\n",
    "    output.write('Autocorrelation - Vertical component\\n')\n",
    "    output.write('\\n')\n",
    "    for k1 in range(0, 2):\n",
    "        for k2 in range(0, 2):\n",
    "            k3 = 0\n",
    "            k = k1 * 1 + k2 * 2 + k3 * 4\n",
    "            output.write('Ratio of ray {}{}{} / direct P-wave\\n'.format(wave[k1], wave[k2], wave[k3]))\n",
    "            output.write('Min value: {}\\n'.format(numpy.min(abs(A3PSV[i, :, k] / AP[i, :]))))\n",
    "            output.write('Max value: {}\\n'.format(numpy.max(abs(A3PSV[i, :, k] / AP[i, :]))))\n",
    "            output.write('Mean value: {}\\n'.format(numpy.mean(abs(A3PSV[i, :, k] / AP[i, :]))))\n",
    "            output.write('\\n')\n",
    "    for k1 in range(0, 2):\n",
    "        for k2 in range(0, 2):\n",
    "            for k3 in range(0, 2):\n",
    "                for k4 in range(0, 2):\n",
    "                    k5 = 0\n",
    "                    k = k1 * 1 + k2 * 2 + k3 * 4 + k4 * 8 + k5 * 16\n",
    "                    output.write('Ratio of ray {}{}{}{}{} / direct P-wave\\n'. format(wave[k1], wave[k2], wave[k3], wave[k4], wave[k5]))\n",
    "                    output.write('Min value: {}\\n'.format(numpy.min(abs(A5PSV[i, :, k] / AP[i, :]))))\n",
    "                    output.write('Max value: {}\\n'.format(numpy.max(abs(A5PSV[i, :, k] / AP[i, :]))))\n",
    "                    output.write('Mean value: {}\\n'.format(numpy.mean(abs(A5PSV[i, :, k] / AP[i, :]))))\n",
    "                    output.write('\\n')\n",
    "\n",
    "    output.write('Cross correlation - Horizontal and vertical component\\n')\n",
    "    output.write('\\n')\n",
    "    for k1 in range(0, 2):\n",
    "        for k2 in range(0, 2):\n",
    "            k3 = 1\n",
    "            k = k1 * 1 + k2 * 2 + k3 * 4\n",
    "            output.write('Ratio of ray {}{}{} / direct P-wave\\n'.format(wave[k1], wave[k2], wave[k3]))\n",
    "            output.write('Min value: {}\\n'.format(numpy.min(abs(A3PSV[i, :, k] / AP[i, :]))))\n",
    "            output.write('Max value: {}\\n'.format(numpy.max(abs(A3PSV[i, :, k] / AP[i, :]))))\n",
    "            output.write('Mean value: {}\\n'.format(numpy.mean(abs(A3PSV[i, :, k] / AP[i, :]))))\n",
    "            output.write('\\n')\n",
    "    for k1 in range(0, 2):\n",
    "        for k2 in range(0, 2):\n",
    "            k3 = 0\n",
    "            k = k1 * 1 + k2 * 2 + k3 * 4\n",
    "            output.write('Ratio of ray {}{}{} / direct SV-wave\\n'.format(wave[k1], wave[k2], wave[k3]))\n",
    "            output.write('Min value: {}\\n'.format(numpy.min(abs(A3PSV[i, :, k] / ASV[i, :]))))\n",
    "            output.write('Max value: {}\\n'.format(numpy.max(abs(A3PSV[i, :, k] / ASV[i, :]))))\n",
    "            output.write('Mean value: {}\\n'.format(numpy.mean(abs(A3PSV[i, :, k] / ASV[i, :]))))\n",
    "            output.write('\\n')\n",
    "    for k1 in range(0, 2):\n",
    "        for k2 in range(0, 2):\n",
    "            for k3 in range(0, 2):\n",
    "                for k4 in range(0, 2):\n",
    "                    k5 = 1\n",
    "                    k = k1 * 1 + k2 * 2 + k3 * 4 + k4 * 8 + k5 * 16\n",
    "                    output.write('Ratio of ray {}{}{}{}{} / direct P-wave\\n'. format(wave[k1], wave[k2], wave[k3], wave[k4], wave[k5]))\n",
    "                    output.write('Min value: {}\\n'.format(numpy.min(abs(A5PSV[i, :, k] / AP[i, :]))))\n",
    "                    output.write('Max value: {}\\n'.format(numpy.max(abs(A5PSV[i, :, k] / AP[i, :]))))\n",
    "                    output.write('Mean value: {}\\n'.format(numpy.mean(abs(A5PSV[i, :, k] / AP[i, :]))))\n",
    "                    output.write('\\n')\n",
    "    for k1 in range(0, 2):\n",
    "        for k2 in range(0, 2):\n",
    "            for k3 in range(0, 2):\n",
    "                for k4 in range(0, 2):\n",
    "                    k5 = 0\n",
    "                    k = k1 * 1 + k2 * 2 + k3 * 4 + k4 * 8 + k5 * 16\n",
    "                    output.write('Ratio of ray {}{}{}{}{} / direct SV-wave\\n'. format(wave[k1], wave[k2], wave[k3], wave[k4], wave[k5]))\n",
    "                    output.write('Min value: {}\\n'.format(numpy.min(abs(A5PSV[i, :, k] / ASV[i, :]))))\n",
    "                    output.write('Max value: {}\\n'.format(numpy.max(abs(A5PSV[i, :, k] / ASV[i, :]))))\n",
    "                    output.write('Mean value: {}\\n'.format(numpy.mean(abs(A5PSV[i, :, k] / ASV[i, :]))))\n",
    "                    output.write('\\n')"
   ]
  },
  {
   "cell_type": "markdown",
   "metadata": {},
   "source": [
    "Average on all arrays"
   ]
  },
  {
   "cell_type": "code",
   "execution_count": 12,
   "metadata": {},
   "outputs": [],
   "source": [
    "output.write('All arrays:\\n')\n",
    "output.write('---------  \\n')\n",
    "# Direct waves\n",
    "output.write('Amplitude of direct P-wave\\n')\n",
    "output.write('Min value: {}\\n'.format(numpy.min(abs(AP))))\n",
    "output.write('Max value: {}\\n'.format(numpy.max(abs(AP))))\n",
    "output.write('Mean value: {}\\n'.format(numpy.mean(abs(AP))))\n",
    "output.write('\\n')\n",
    "output.write('Amplitude of direct SV-wave\\n')\n",
    "output.write('Min value: {}\\n'.format(numpy.min(abs(ASV))))\n",
    "output.write('Max value: {}\\n'.format(numpy.max(abs(ASV))))\n",
    "output.write('Mean value: {}\\n'.format(numpy.mean(abs(ASV))))\n",
    "output.write('\\n')\n",
    "output.write('Amplitude of direct SH-wave\\n')\n",
    "output.write('Min value: {}\\n'.format(numpy.min(abs(ASH))))\n",
    "output.write('Max value: {}\\n'.format(numpy.max(abs(ASH))))\n",
    "output.write('Mean value: {}\\n'.format(numpy.mean(abs(ASH))))\n",
    "output.write('\\n')\n",
    "# Reflected SH-wave on mid-slab discontinuity\n",
    "output.write('Amplitude of SH-wave (mid-slab)\\n')\n",
    "output.write('Min value: {}\\n'.format(numpy.min(abs(A3SH))))\n",
    "output.write('Max value: {}\\n'.format(numpy.max(abs(A3SH))))\n",
    "output.write('Mean value: {}\\n'.format(numpy.mean(abs(A3SH))))\n",
    "output.write('\\n')\n",
    "# Reflected SH-wave on Moho\n",
    "output.write('Amplitude of SH-wave (Moho)\\n')\n",
    "output.write('Min value: {}\\n'.format(numpy.min(abs(A5SH))))\n",
    "output.write('Max value: {}\\n'.format(numpy.max(abs(A5SH))))\n",
    "output.write('Mean value: {}\\n'.format(numpy.mean(abs(A5SH))))\n",
    "output.write('\\n')\n",
    "# Reflected wave on mid-slab discontinuity\n",
    "for k1 in range(0, 2):\n",
    "    for k2 in range(0, 2):\n",
    "        for k3 in range(0, 2):\n",
    "            k = k1 * 1 + k2 * 2 + k3 * 4\n",
    "            output.write('Amplitude of ray {}{}{}\\n'.format(wave[k1], wave[k2], wave[k3]))\n",
    "            output.write('Min value: {}\\n'.format(numpy.min(abs(A3PSV[:, :, k]))))\n",
    "            output.write('Max value: {}\\n'.format(numpy.max(abs(A3PSV[:, :, k]))))\n",
    "            output.write('Mean value: {}\\n'.format(numpy.mean(abs(A3PSV[:, :, k]))))\n",
    "            output.write('\\n')\n",
    "# Reflected wave on Moho\n",
    "for k1 in range(0, 2):\n",
    "    for k2 in range(0, 2):\n",
    "        for k3 in range(0, 2):\n",
    "            for k4 in range(0, 2):\n",
    "                for k5 in range(0, 2):\n",
    "                    k = k1 * 1 + k2 * 2 + k3 * 4 + k4 * 8 + k5 * 16\n",
    "                    output.write('Amplitude of ray {}{}{}{}{}\\n'. format(wave[k1], wave[k2], wave[k3], wave[k4], wave[k5]))\n",
    "                    output.write('Min value: {}\\n'.format(numpy.min(abs(A5PSV[:, :, k]))))\n",
    "                    output.write('Max value: {}\\n'.format(numpy.max(abs(A5PSV[:, :, k]))))\n",
    "                    output.write('Mean value: {}\\n'.format(numpy.mean(abs(A5PSV[:, :, k]))))\n",
    "                    output.write('\\n')\n",
    "\n",
    "# Peaks visible on auto / cross correlation plots\n",
    "output.write('Autocorrelation - Horizontal component\\n')\n",
    "output.write('\\n')\n",
    "output.write('Ratio SH-wave (mid-slab) / direct SH-wave\\n')\n",
    "output.write('Min value: {}\\n'.format(numpy.min(abs(A3SH / ASH))))\n",
    "output.write('Max value: {}\\n'.format(numpy.max(abs(A3SH / ASH))))\n",
    "output.write('Mean value: {}\\n'.format(numpy.mean(abs(A3SH / ASH))))\n",
    "output.write('\\n')\n",
    "output.write('Ratio SH-wave (Moho) / direct SH-wave\\n')\n",
    "output.write('Min value: {}\\n'.format(numpy.min(abs(A5SH / ASH))))\n",
    "output.write('Max value: {}\\n'.format(numpy.max(abs(A5SH / ASH))))\n",
    "output.write('Mean value: {}\\n'.format(numpy.mean(abs(A5SH / ASH))))\n",
    "output.write('\\n')\n",
    "for k1 in range(0, 2):\n",
    "    for k2 in range(0, 2):\n",
    "        k3 = 1\n",
    "        k = k1 * 1 + k2 * 2 + k3 * 4\n",
    "        output.write('Ratio of ray {}{}{} / direct SV-wave\\n'.format(wave[k1], wave[k2], wave[k3]))\n",
    "        output.write('Min value: {}\\n'.format(numpy.min(abs(A3PSV[:, :, k] / ASV))))\n",
    "        output.write('Max value: {}\\n'.format(numpy.max(abs(A3PSV[:, :, k] / ASV))))\n",
    "        output.write('Mean value: {}\\n'.format(numpy.mean(abs(A3PSV[:, :, k] / ASV))))\n",
    "        output.write('\\n')\n",
    "for k1 in range(0, 2):\n",
    "    for k2 in range(0, 2):\n",
    "        for k3 in range(0, 2):\n",
    "            for k4 in range(0, 2):\n",
    "                k5 = 1\n",
    "                k = k1 * 1 + k2 * 2 + k3 * 4 + k4 * 8 + k5 * 16\n",
    "                output.write('Ratio of ray {}{}{}{}{} / direct SV-wave\\n'. format(wave[k1], wave[k2], wave[k3], wave[k4], wave[k5]))\n",
    "                output.write('Min value: {}\\n'.format(numpy.min(abs(A5PSV[:, :, k] / ASV))))\n",
    "                output.write('Max value: {}\\n'.format(numpy.max(abs(A5PSV[:, :, k] / ASV))))\n",
    "                output.write('Mean value: {}\\n'.format(numpy.mean(abs(A5PSV[:, :, k] / ASV))))\n",
    "                output.write('\\n')\n",
    "\n",
    "output.write('Autocorrelation - Vertical component\\n')\n",
    "output.write('\\n')\n",
    "for k1 in range(0, 2):\n",
    "    for k2 in range(0, 2):\n",
    "        k3 = 0\n",
    "        k = k1 * 1 + k2 * 2 + k3 * 4\n",
    "        output.write('Ratio of ray {}{}{} / direct P-wave\\n'.format(wave[k1], wave[k2], wave[k3]))\n",
    "        output.write('Min value: {}\\n'.format(numpy.min(abs(A3PSV[:, :, k] / AP))))\n",
    "        output.write('Max value: {}\\n'.format(numpy.max(abs(A3PSV[:, :, k] / AP))))\n",
    "        output.write('Mean value: {}\\n'.format(numpy.mean(abs(A3PSV[:, :, k] / AP))))\n",
    "        output.write('\\n')\n",
    "for k1 in range(0, 2):\n",
    "    for k2 in range(0, 2):\n",
    "        for k3 in range(0, 2):\n",
    "            for k4 in range(0, 2):\n",
    "                k5 = 0\n",
    "                k = k1 * 1 + k2 * 2 + k3 * 4 + k4 * 8 + k5 * 16\n",
    "                output.write('Ratio of ray {}{}{}{}{} / direct P-wave\\n'. format(wave[k1], wave[k2], wave[k3], wave[k4], wave[k5]))\n",
    "                output.write('Min value: {}\\n'.format(numpy.min(abs(A5PSV[:, :, k] / AP))))\n",
    "                output.write('Max value: {}\\n'.format(numpy.max(abs(A5PSV[:, :, k] / AP))))\n",
    "                output.write('Mean value: {}\\n'.format(numpy.mean(abs(A5PSV[:, :, k] / AP))))\n",
    "                output.write('\\n')\n",
    "\n",
    "output.write('Cross correlation - Horizontal and vertical component\\n')\n",
    "output.write('\\n')\n",
    "for k1 in range(0, 2):\n",
    "    for k2 in range(0, 2):\n",
    "        k3 = 1\n",
    "        k = k1 * 1 + k2 * 2 + k3 * 4\n",
    "        output.write('Ratio of ray {}{}{} / direct P-wave\\n'.format(wave[k1], wave[k2], wave[k3]))\n",
    "        output.write('Min value: {}\\n'.format(numpy.min(abs(A3PSV[:, :, k] / AP))))\n",
    "        output.write('Max value: {}\\n'.format(numpy.max(abs(A3PSV[:, :, k] / AP))))\n",
    "        output.write('Mean value: {}\\n'.format(numpy.mean(abs(A3PSV[:, :, k] / AP))))\n",
    "        output.write('\\n')\n",
    "for k1 in range(0, 2):\n",
    "    for k2 in range(0, 2):\n",
    "        k3 = 0\n",
    "        k = k1 * 1 + k2 * 2 + k3 * 4\n",
    "        output.write('Ratio of ray {}{}{} / direct SV-wave\\n'.format(wave[k1], wave[k2], wave[k3]))\n",
    "        output.write('Min value: {}\\n'.format(numpy.min(abs(A3PSV[:, :, k] / ASV))))\n",
    "        output.write('Max value: {}\\n'.format(numpy.max(abs(A3PSV[:, :, k] / ASV))))\n",
    "        output.write('Mean value: {}\\n'.format(numpy.mean(abs(A3PSV[:, :, k] / ASV))))\n",
    "        output.write('\\n')\n",
    "for k1 in range(0, 2):\n",
    "    for k2 in range(0, 2):\n",
    "        for k3 in range(0, 2):\n",
    "            for k4 in range(0, 2):\n",
    "                k5 = 1\n",
    "                k = k1 * 1 + k2 * 2 + k3 * 4 + k4 * 8 + k5 * 16\n",
    "                output.write('Ratio of ray {}{}{}{}{} / direct P-wave\\n'. format(wave[k1], wave[k2], wave[k3], wave[k4], wave[k5]))\n",
    "                output.write('Min value: {}\\n'.format(numpy.min(abs(A5PSV[:, :, k] / AP))))\n",
    "                output.write('Max value: {}\\n'.format(numpy.max(abs(A5PSV[:, :, k] / AP))))\n",
    "                output.write('Mean value: {}\\n'.format(numpy.mean(abs(A5PSV[:, :, k] / AP))))\n",
    "                output.write('\\n')\n",
    "for k1 in range(0, 2):\n",
    "    for k2 in range(0, 2):\n",
    "        for k3 in range(0, 2):\n",
    "            for k4 in range(0, 2):\n",
    "                k5 = 0\n",
    "                k = k1 * 1 + k2 * 2 + k3 * 4 + k4 * 8 + k5 * 16\n",
    "                output.write('Ratio of ray {}{}{}{}{} / direct SV-wave\\n'. format(wave[k1], wave[k2], wave[k3], wave[k4], wave[k5]))\n",
    "                output.write('Min value: {}\\n'.format(numpy.min(abs(A5PSV[:, :, k] / ASV))))\n",
    "                output.write('Max value: {}\\n'.format(numpy.max(abs(A5PSV[:, :, k] / ASV))))\n",
    "                output.write('Mean value: {}\\n'.format(numpy.mean(abs(A5PSV[:, :, k] / ASV))))\n",
    "                output.write('\\n')"
   ]
  },
  {
   "cell_type": "markdown",
   "metadata": {},
   "source": [
    "Close output file."
   ]
  },
  {
   "cell_type": "code",
   "execution_count": 13,
   "metadata": {},
   "outputs": [],
   "source": [
    "output.close()"
   ]
  },
  {
   "cell_type": "markdown",
   "metadata": {},
   "source": [
    "We should be able to see on the seismograms the following phases:\n",
    "- Direct P-wave\n",
    "- Direct SV-wave\n",
    "- Direct SH-wave\n",
    "- Reflected PPP-wave\n",
    "- Reflected PPSSS-wave\n",
    "\n",
    "On the cross correlation figures, we should see two (maybe three) peaks:\n",
    "- Direct P-wave + Direct S-wave\n",
    "- Direct P-wave + Reflected PPSSS-wave\n",
    "- Direct S-wave + Reflected PPP-wave\n",
    "\n",
    "On the vertical autocorrelation figure, we should see one peak:\n",
    "- Direct P-wave + Reflected PPP-wave\n",
    "\n",
    "On the horizontal autocorrelation figure, we may see two peaks for some geometric settings:\n",
    "- Direct S-wave + Reflected SH-wave (mid-slab and Moho)\n",
    "- Direct S-wave + Reflected PPSSS-wave"
   ]
  },
  {
   "cell_type": "markdown",
   "metadata": {},
   "source": [
    "# Bibliography\n",
    "\n",
    "A. Ghosh, J.E. Vidale, and K.C. Creager. Tremor asperities in the transition zone control evolution of slow\n",
    "earthquakes. Journal of Geophysical Research, 117:B10301, 2012."
   ]
  }
 ],
 "metadata": {
  "kernelspec": {
   "display_name": "Python 3",
   "language": "python",
   "name": "python3"
  },
  "language_info": {
   "codemirror_mode": {
    "name": "ipython",
    "version": 3
   },
   "file_extension": ".py",
   "mimetype": "text/x-python",
   "name": "python",
   "nbconvert_exporter": "python",
   "pygments_lexer": "ipython3",
   "version": "3.6.5"
  }
 },
 "nbformat": 4,
 "nbformat_minor": 2
}

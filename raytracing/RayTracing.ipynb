{
 "cells": [
  {
   "cell_type": "markdown",
   "metadata": {
    "collapsed": true
   },
   "source": [
    "# Ray Tracing: Is our analytical approach going to work?\n",
    "\n",
    "# Fifth question: Computation of the time delays and the amplitude ratios for a specific array and a specific location of the tremor source."
   ]
  },
  {
   "cell_type": "markdown",
   "metadata": {},
   "source": [
    "Name of the array."
   ]
  },
  {
   "cell_type": "code",
   "execution_count": 1,
   "metadata": {},
   "outputs": [],
   "source": [
    "name = 'BS'"
   ]
  },
  {
   "cell_type": "markdown",
   "metadata": {},
   "source": [
    "Location of the tremor source."
   ]
  },
  {
   "cell_type": "code",
   "execution_count": 2,
   "metadata": {},
   "outputs": [],
   "source": [
    "lat = 47.95728\n",
    "lon = - 122.92866\n",
    "depth = 41487.7"
   ]
  },
  {
   "cell_type": "markdown",
   "metadata": {},
   "source": [
    "Load Python modules."
   ]
  },
  {
   "cell_type": "code",
   "execution_count": 3,
   "metadata": {},
   "outputs": [],
   "source": [
    "import numpy\n",
    "from math import sqrt, pi, cos, sin, tan"
   ]
  },
  {
   "cell_type": "markdown",
   "metadata": {},
   "source": [
    "Load functions from my own ray-tracing related modules."
   ]
  },
  {
   "cell_type": "code",
   "execution_count": 4,
   "metadata": {},
   "outputs": [],
   "source": [
    "from computeAmplitude import computeAmplitude3SH, computeAmplitude5SH, computeAmplitude3PSV, computeAmplitude5PSV\n",
    "from computeAngle import computeAngle3, computeAngle5\n",
    "from computeTravelTime import computeTravelTime3, computeTravelTime5\n",
    "from misc import computeInitAmp, latLon2xy"
   ]
  },
  {
   "cell_type": "markdown",
   "metadata": {},
   "source": [
    "Get P- and S-wave velocities in the continental crust."
   ]
  },
  {
   "cell_type": "code",
   "execution_count": 5,
   "metadata": {},
   "outputs": [],
   "source": [
    "from data import VpCC, VsCC"
   ]
  },
  {
   "cell_type": "markdown",
   "metadata": {},
   "source": [
    "Get strike and dip of the subducted oceanic plate."
   ]
  },
  {
   "cell_type": "code",
   "execution_count": 6,
   "metadata": {},
   "outputs": [],
   "source": [
    "from data import phi, delta"
   ]
  },
  {
   "cell_type": "markdown",
   "metadata": {},
   "source": [
    "Get location of array and convert the distance into meters."
   ]
  },
  {
   "cell_type": "code",
   "execution_count": 7,
   "metadata": {},
   "outputs": [],
   "source": [
    "from data import lat_a, lon_a, names_a\n",
    "mylat = lat_a[names_a == name]\n",
    "mylon = lon_a[names_a == name]\n",
    "(x, y) = latLon2xy(mylat, mylon, lat, lon)"
   ]
  },
  {
   "cell_type": "markdown",
   "metadata": {},
   "source": [
    "Displacement of the tremor source."
   ]
  },
  {
   "cell_type": "code",
   "execution_count": 8,
   "metadata": {},
   "outputs": [],
   "source": [
    "x0 = - cos(phi * pi / 180.0) * numpy.array([0.0, 500.0, 1800.0, 3300.0])\n",
    "y0 = sin(phi * pi / 180.0) * numpy.array([0.0, 500.0, 1800.0, 3300.0])\n",
    "d0 = depth - tan(delta * pi /180.0) * numpy.array([0.0, 500.0, 1800.0, 3300.0])"
   ]
  },
  {
   "cell_type": "markdown",
   "metadata": {},
   "source": [
    "Types of wave."
   ]
  },
  {
   "cell_type": "code",
   "execution_count": 9,
   "metadata": {},
   "outputs": [],
   "source": [
    "wave = ('P', 'S')"
   ]
  },
  {
   "cell_type": "markdown",
   "metadata": {},
   "source": [
    "Initializations."
   ]
  },
  {
   "cell_type": "code",
   "execution_count": 10,
   "metadata": {},
   "outputs": [],
   "source": [
    "tP = numpy.zeros((numpy.shape(x0)[0]))\n",
    "tS = numpy.zeros((numpy.shape(x0)[0]))\n",
    "t3SH = numpy.zeros((numpy.shape(x0)[0]))\n",
    "t5SH = numpy.zeros((numpy.shape(x0)[0]))\n",
    "t3PSV = numpy.zeros((numpy.shape(x0)[0], 8))\n",
    "t5PSV = numpy.zeros((numpy.shape(x0)[0], 32))\n",
    "A3PSV = numpy.zeros((8))\n",
    "A5PSV = numpy.zeros((32))"
   ]
  },
  {
   "cell_type": "markdown",
   "metadata": {},
   "source": [
    "Open output file."
   ]
  },
  {
   "cell_type": "code",
   "execution_count": 11,
   "metadata": {},
   "outputs": [],
   "source": [
    "output = open('RayTracing.txt', 'w')"
   ]
  },
  {
   "cell_type": "markdown",
   "metadata": {},
   "source": [
    "Loop on source position."
   ]
  },
  {
   "cell_type": "code",
   "execution_count": 12,
   "metadata": {},
   "outputs": [],
   "source": [
    "for i in range(0, numpy.shape(x0)[0]):\n",
    "    # Direct wave\n",
    "    tP[i] = sqrt((x - x0[i]) ** 2.0 + (y - y0[i]) ** 2.0 + d0[i] ** 2.0) / VpCC\n",
    "    tS[i] = sqrt((x - x0[i]) ** 2.0 + (y - y0[i]) ** 2.0 + d0[i] ** 2.0) / VsCC\n",
    "    if i == 0:\n",
    "        AD = computeInitAmp(x0[i], y0[i], x, y, d0[i], 'D')\n",
    "        AP = AD[0]\n",
    "        ASV = AD[1]\n",
    "        ASH = AD[2]\n",
    "    # Reflected SH-wave on mid-slab discontinuity\n",
    "    angle = computeAngle3(x0[i], y0[i], d0[i], x, y, 'S', 'S', 'S')\n",
    "    t3SH[i] = computeTravelTime3(angle, x0[i], y0[i], d0[i], x, y, 'S', 'S', 'S')\n",
    "    if i == 0:\n",
    "        A3SH = computeAmplitude3SH(angle, x0[i], y0[i], x, y)\n",
    "        AR = computeInitAmp(x0[i], y0[i], x, y, d0[i], 'R', angle)\n",
    "        A3SH = A3SH * AR[2]\n",
    "    # Reflected SH-wave on Moho\n",
    "    angle = computeAngle5(x0[i], y0[i], d0[i], x, y, 'S', 'S', 'S', 'S', 'S')\n",
    "    t5SH[i] = computeTravelTime5(angle, x0[i], y0[i], d0[i], x, y, 'S', 'S', 'S', 'S', 'S')\n",
    "    if i == 0:\n",
    "        A5SH = computeAmplitude5SH(angle, x0[i], y0[i], x, y)\n",
    "        AR = computeInitAmp(x0[i], y0[i], x, y, d0[i], 'R', angle)\n",
    "        A5SH = A5SH * AR[2]\n",
    "    # Reflected wave on mid-slab discontinuity\n",
    "    # Downgoing wave in upper oceanic crust\n",
    "    for k1 in range(0, 2):\n",
    "        # Upgoing wave in upper oceanic crust\n",
    "        for k2 in range(0, 2):\n",
    "            # Upgoing wave in continental crust\n",
    "            for k3 in range(0, 2):\n",
    "                k = k1 * 1 + k2 * 2 + k3 * 4\n",
    "                angle = computeAngle3(x0[i], y0[i], d0[i], x, y, wave[k1], wave[k2], wave[k3])\n",
    "                t3PSV[i, k] = computeTravelTime3(angle, x0[i], y0[i], d0[i], x, y, wave[k1], wave[k2], wave[k3])\n",
    "                if i == 0:\n",
    "                    A3PSV[k] = computeAmplitude3PSV(angle, x0[i], y0[i], x, y, wave[k1], wave[k2], wave[k3])\n",
    "                    AR = computeInitAmp(x0[i], y0[i], x, y, d0[i], 'R', angle)\n",
    "                    if (k1 == 0):\n",
    "                        A3PSV[k] = A3PSV[k] * AR[0]\n",
    "                    else:\n",
    "                        A3PSV[k] = A3PSV[k] * AR[1]\n",
    "    # Reflected wave on Moho\n",
    "    # Downgoing wave in upper oceanic crust\n",
    "    for k1 in range(0, 2):\n",
    "        # Downgoing wave in lower oceanic crust\n",
    "        for k2 in range(0, 2):\n",
    "            # Upgoing wave in lower oceanic crust\n",
    "            for k3 in range(0, 2):\n",
    "                # Upgoing wave in upper oceanic crust\n",
    "                for k4 in range(0, 2):\n",
    "                    # Upgoing wave in continental crust\n",
    "                    for k5 in range(0, 2):\n",
    "                        k = k1 * 1 + k2 * 2 + k3 * 4 + k4 * 8 + k5 * 16\n",
    "                        angle = computeAngle5(x0[i], y0[i], d0[i], x, y, \\\n",
    "                                wave[k1], wave[k2], wave[k3], wave[k4], wave[k5])\n",
    "                        t5PSV[i, k] = computeTravelTime5(angle, x0[i], y0[i], d0[i], x, y, \\\n",
    "                                      wave[k1], wave[k2], wave[k3], wave[k4], wave[k5])\n",
    "                        if i == 0:\n",
    "                            A5PSV[k] = computeAmplitude5PSV(angle, x0[i], y0[i], x, y, \\\n",
    "                                       wave[k1], wave[k2], wave[k3], wave[k4], wave[k5])\n",
    "                            AR = computeInitAmp(x0[i], y0[i], x, y, d0[i], 'R', angle)\n",
    "                            if (k1 == 0):\n",
    "                                A5PSV[k] = A5PSV[k] * AR[0]\n",
    "                            else:\n",
    "                                A5PSV[k] = A5PSV[k] * AR[1]\n",
    "\n",
    "output.write('Time lag between direct waves\\n')\n",
    "output.write('Amplitude ratio of direct SV-wave / direct P-wave: {}\\n'.format(ASV / AP))\n",
    "output.write('Time lag between direct SV-wave and direct P-wave: {}\\n'.format(tS[0] - tP[0]))\n",
    "output.write('Difference in time lag {} s (500m), {} s (1800m), {} s (3300m)\\n'.format( \\\n",
    "    (tS[1] - tP[1]) - (tS[0] - tP[0]), \\\n",
    "    (tS[2] - tP[2]) - (tS[0] - tP[0]), \\\n",
    "    (tS[3] - tP[3]) - (tS[0] - tP[0])))\n",
    "output.write('\\n')\n",
    "output.write('Amplitude ratio of direct SH-wave / direct P-wave: {}\\n'.format(ASH / AP))\n",
    "output.write('Time lag between direct SH-wave and direct P-wave: {}\\n'.format(tS[0] - tP[0]))\n",
    "output.write('Difference in time lag {} s (500m), {} s (1800m), {} s (3300m)\\n'.format( \\\n",
    "    (tS[1] - tP[1]) - (tS[0] - tP[0]), \\\n",
    "    (tS[2] - tP[2]) - (tS[0] - tP[0]), \\\n",
    "    (tS[3] - tP[3]) - (tS[0] - tP[0])))\n",
    "output.write('\\n')\n",
    "\n",
    "output.write('Time lag with direct P-wave\\n')\n",
    "output.write('Amplitude ratio of SH-wave (mid-slab) / direct P-wave: {}\\n'.format(A3SH / AP))\n",
    "output.write('Time lag between SH-wave (mid-slab) and direct P-wave: {}\\n'.format(t3SH[0] - tP[0]))\n",
    "output.write('Difference in time lag {} s (500m), {} s (1800m), {} s (3300m)\\n'.format( \\\n",
    "    (t3SH[1] - tP[1]) - (t3SH[0] - tP[0]), \\\n",
    "    (t3SH[2] - tP[2]) - (t3SH[0] - tP[0]), \\\n",
    "    (t3SH[3] - tP[3]) - (t3SH[0] - tP[0])))\n",
    "output.write('\\n')\n",
    "output.write('Amplitude ratio of SH-wave (Moho) / direct P-wave: {}\\n'.format(A5SH / AP))\n",
    "output.write('Time lag between SH-wave (Moho) and direct P-wave: {}\\n'.format(t5SH[0] - tP[0]))\n",
    "output.write('Difference in time lag {} s (500m), {} s (1800m), {} s (3300m)\\n'.format( \\\n",
    "    (t5SH[1] - tP[1]) - (t5SH[0] - tP[0]), \\\n",
    "    (t5SH[2] - tP[2]) - (t5SH[0] - tP[0]), \\\n",
    "    (t5SH[3] - tP[3]) - (t5SH[0] - tP[0])))\n",
    "output.write('\\n')\n",
    "\n",
    "# Reflected wave on mid-slab discontinuity\n",
    "# Downgoing wave in upper oceanic crust\n",
    "for k1 in range(0, 2):\n",
    "    # Upgoing wave in upper oceanic crust\n",
    "    for k2 in range(0, 2):\n",
    "        # Upgoing wave in continental crust\n",
    "        for k3 in range(0, 2):\n",
    "            k = k1 * 1 + k2 * 2 + k3 * 4\n",
    "            output.write('Amplitude ratio of ray {}{}{} / direct P-wave: {}\\n'.format(wave[k1], wave[k2], wave[k3], \\\n",
    "                A3PSV[k] / AP))\n",
    "            output.write('Time lag between ray {}{}{} and direct P-wave: {}\\n'.format(wave[k1], wave[k2], wave[k3], \\\n",
    "                t3PSV[0, k] - tP[0]))\n",
    "            output.write('Difference in time lag {} s (500m), {} s (1800m), {} s (3300m)\\n'.format( \\\n",
    "                (t3PSV[1, k] - tP[1]) - (t3PSV[0, k] - tP[0]), \\\n",
    "                (t3PSV[2, k] - tP[2]) - (t3PSV[0, k] - tP[0]), \\\n",
    "                (t3PSV[3, k] - tP[3]) - (t3PSV[0, k] - tP[0])))\n",
    "            output.write('\\n')\n",
    "\n",
    "# Reflected wave on Moho\n",
    "# Downgoing wave in upper oceanic crust\n",
    "for k1 in range(0, 2):\n",
    "    # Downgoing wave in lower oceanic crust\n",
    "    for k2 in range(0, 2):\n",
    "        # Upgoing wave in lower oceanic crust\n",
    "        for k3 in range(0, 2):\n",
    "            # Upgoing wave in upper oceanic crust\n",
    "            for k4 in range(0, 2):\n",
    "                # Upgoing wave in continental crust\n",
    "                for k5 in range(0, 2):\n",
    "                    k = k1 * 1 + k2 * 2 + k3 * 4 + k4 * 8 + k5 * 16\n",
    "                    output.write('Amplitude ratio of ray {}{}{}{}{} / direct P-wave: {}\\n'.format(wave[k1], wave[k2], \\\n",
    "                        wave[k3], wave[k4], wave[k5], A5PSV[k] / AP))\n",
    "                    output.write('Time lag between ray {}{}{}{}{} and direct P-wave: {}\\n'.format(wave[k1], wave[k2], \\\n",
    "                        wave[k3], wave[k4], wave[k5], t5PSV[0, k] - tP[0]))\n",
    "                    output.write('Difference in time lag {} s (500m), {} s (1800m), {} s (3300m)\\n'.format( \\\n",
    "                        (t5PSV[1, k] - tP[1]) - (t5PSV[0, k] - tP[0]), \\\n",
    "                        (t5PSV[2, k] - tP[2]) - (t5PSV[0, k] - tP[0]), \\\n",
    "                        (t5PSV[3, k] - tP[3]) - (t5PSV[0, k] - tP[0])))\n",
    "                    output.write('\\n')\n",
    "\n",
    "output.write('Time lag with direct S-wave\\n')\n",
    "output.write('Amplitude ratio of SH-wave (mid-slab) / direct S-wave: {}\\n'.format(A3SH / ASH))\n",
    "output.write('Time lag between SH-wave (mid-slab) and direct S-wave: {}\\n'.format(t3SH[0] - tS[0]))\n",
    "output.write('Difference in time lag {} s (500m), {} s (1800m), {} s (3300m)\\n'.format( \\\n",
    "    (t3SH[1] - tS[1]) - (t3SH[0] - tS[0]), \\\n",
    "    (t3SH[2] - tS[2]) - (t3SH[0] - tS[0]), \\\n",
    "    (t3SH[3] - tS[3]) - (t3SH[0] - tS[0])))\n",
    "output.write('\\n')\n",
    "output.write('Amplitude ratio of SH-wave (Moho) / direct S-wave: {}\\n'.format(A5SH / ASH))\n",
    "output.write('Time lag between SH-wave (Moho) and direct S-wave: {}\\n'.format(t5SH[0] - tS[0]))\n",
    "output.write('Difference in time lag {} s (500m), {} s (1800m), {} s (3300m)\\n'.format( \\\n",
    "    (t5SH[1] - tS[1]) - (t5SH[0] - tS[0]), \\\n",
    "    (t5SH[2] - tS[2]) - (t5SH[0] - tS[0]), \\\n",
    "    (t5SH[3] - tS[3]) - (t5SH[0] - tS[0])))\n",
    "output.write('\\n')\n",
    "\n",
    "# Reflected wave on mid-slab discontinuity\n",
    "# Downgoing wave in upper oceanic crust\n",
    "for k1 in range(0, 2):\n",
    "    # Upgoing wave in upper oceanic crust\n",
    "    for k2 in range(0, 2):\n",
    "        # Upgoing wave in continental crust\n",
    "        for k3 in range(0, 2):\n",
    "            k = k1 * 1 + k2 * 2 + k3 * 4\n",
    "            output.write('Amplitude ratio of ray {}{}{} / direct S-wave: {}\\n'.format(wave[k1], wave[k2], wave[k3], \\\n",
    "                A3PSV[k] / ASV))\n",
    "            output.write('Time lag between ray {}{}{} and direct S-wave: {}\\n'.format(wave[k1], wave[k2], wave[k3], \\\n",
    "                t3PSV[0, k] - tS[0]))\n",
    "            output.write('Difference in time lag {} s (500m), {} s (1800m), {} s (3300m)\\n'.format( \\\n",
    "                (t3PSV[1, k] - tS[1]) - (t3PSV[0, k] - tS[0]), \\\n",
    "                (t3PSV[2, k] - tS[2]) - (t3PSV[0, k] - tS[0]), \\\n",
    "                (t3PSV[3, k] - tS[3]) - (t3PSV[0, k] - tS[0])))\n",
    "            output.write('\\n')\n",
    "\n",
    "# Reflected wave on Moho\n",
    "# Downgoing wave in upper oceanic crust\n",
    "for k1 in range(0, 2):\n",
    "    # Downgoing wave in lower oceanic crust\n",
    "    for k2 in range(0, 2):\n",
    "        # Upgoing wave in lower oceanic crust\n",
    "        for k3 in range(0, 2):\n",
    "            # Upgoing wave in upper oceanic crust\n",
    "            for k4 in range(0, 2):\n",
    "                # Upgoing wave in continental crust\n",
    "                for k5 in range(0, 2):\n",
    "                    k = k1 * 1 + k2 * 2 + k3 * 4 + k4 * 8 + k5 * 16\n",
    "                    output.write('Amplitude ratio of ray {}{}{}{}{} / direct S-wave: {}\\n'.format(wave[k1], wave[k2], \\\n",
    "                        wave[k3], wave[k4], wave[k5], A5PSV[k] / ASV))\n",
    "                    output.write('Time lag between ray {}{}{}{}{} and direct S-wave: {}\\n'.format(wave[k1], wave[k2], \\\n",
    "                        wave[k3], wave[k4], wave[k5], t5PSV[0, k] - tS[0]))\n",
    "                    output.write('Difference in time lag {} s (500m), {} s (1800m), {} s (3300m)\\n'.format( \\\n",
    "                        (t5PSV[1, k] - tS[1]) - (t5PSV[0, k] - tS[0]), \\\n",
    "                        (t5PSV[2, k] - tS[2]) - (t5PSV[0, k] - tS[0]), \\\n",
    "                        (t5PSV[3, k] - tS[3]) - (t5PSV[0, k] - tS[0])))\n",
    "                    output.write('\\n')"
   ]
  },
  {
   "cell_type": "markdown",
   "metadata": {},
   "source": [
    "Close ouput file."
   ]
  },
  {
   "cell_type": "code",
   "execution_count": 13,
   "metadata": {},
   "outputs": [],
   "source": [
    "output.close()"
   ]
  },
  {
   "cell_type": "markdown",
   "metadata": {},
   "source": [
    "We may see on the horizontal autocorrelation plot:\n",
    "- Direct S-wave and reflected SH-wave (mid-slab): 3.03 s\n",
    "\n",
    "We may see on the vertical autocorrelation plot:\n",
    "- Direct P-wave and reflected PPP-wave: 1.34 s\n",
    "\n",
    "We may see on the cross correlation plot:\n",
    "- Direct S-wave and direct P-wave: 5.33 s\n",
    "- Direct P-wave and reflected SH-wave (mid-slab): 8.36 s\n",
    "- Direct P-wave and reflected SSS wave: 8.36 s\n",
    "- Direct S-wave and reflected wave PPP: 3.99 s"
   ]
  }
 ],
 "metadata": {
  "kernelspec": {
   "display_name": "Python 3",
   "language": "python",
   "name": "python3"
  },
  "language_info": {
   "codemirror_mode": {
    "name": "ipython",
    "version": 3
   },
   "file_extension": ".py",
   "mimetype": "text/x-python",
   "name": "python",
   "nbconvert_exporter": "python",
   "pygments_lexer": "ipython3",
   "version": "3.6.5"
  }
 },
 "nbformat": 4,
 "nbformat_minor": 2
}

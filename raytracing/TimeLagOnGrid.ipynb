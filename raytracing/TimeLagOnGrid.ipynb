{
 "cells": [
  {
   "cell_type": "markdown",
   "metadata": {},
   "source": [
    "# Ray Tracing: Is our analytical approach going to work?\n",
    "\n",
    "# Third question: What is the time difference between the time arrivals at different stations from the same array?"
   ]
  },
  {
   "cell_type": "markdown",
   "metadata": {},
   "source": [
    "To answer this question, we are going to compute the time difference for the direct P-wave, the direct S-wave, the PPP and 3SH waves reflected off the mid-slab discontinuity, and the PPSSSand the 5SH waves reflected off the Moho."
   ]
  },
  {
   "cell_type": "markdown",
   "metadata": {},
   "source": [
    "Load Python modules."
   ]
  },
  {
   "cell_type": "code",
   "execution_count": 1,
   "metadata": {},
   "outputs": [],
   "source": [
    "import numpy\n",
    "from math import sqrt"
   ]
  },
  {
   "cell_type": "markdown",
   "metadata": {},
   "source": [
    "Load functions from my own ray-tracing related modules."
   ]
  },
  {
   "cell_type": "code",
   "execution_count": 2,
   "metadata": {},
   "outputs": [],
   "source": [
    "from computeAngle import computeAngle3, computeAngle5\n",
    "from computeTravelTime import computeTravelTime3, computeTravelTime5\n",
    "from misc import latLon2xy"
   ]
  },
  {
   "cell_type": "markdown",
   "metadata": {},
   "source": [
    "Get P- and S-wave velocities in the continental crust."
   ]
  },
  {
   "cell_type": "code",
   "execution_count": 3,
   "metadata": {},
   "outputs": [],
   "source": [
    "from data import VpCC, VsCC"
   ]
  },
  {
   "cell_type": "markdown",
   "metadata": {},
   "source": [
    "Get latitudes, longitudes and names of the stations. Get names of the arrays."
   ]
  },
  {
   "cell_type": "code",
   "execution_count": 4,
   "metadata": {},
   "outputs": [],
   "source": [
    "from data import lat_r, lon_r, names_r, nr, names_a, na"
   ]
  },
  {
   "cell_type": "markdown",
   "metadata": {},
   "source": [
    "Get latitudes, longitudes and depths of the tremor sources."
   ]
  },
  {
   "cell_type": "code",
   "execution_count": 5,
   "metadata": {},
   "outputs": [],
   "source": [
    "from data import lat_s, lon_s, d_s, ns"
   ]
  },
  {
   "cell_type": "markdown",
   "metadata": {},
   "source": [
    "Get latitude and longitude of the center of the (tremor sources) grid."
   ]
  },
  {
   "cell_type": "code",
   "execution_count": 6,
   "metadata": {},
   "outputs": [],
   "source": [
    "from data import lat0, lon0"
   ]
  },
  {
   "cell_type": "markdown",
   "metadata": {},
   "source": [
    "Compute the distances from the tremor sources to the center of the (tremor sources) grid."
   ]
  },
  {
   "cell_type": "code",
   "execution_count": 7,
   "metadata": {},
   "outputs": [],
   "source": [
    "(x_s, y_s) = latLon2xy(lat_s, lon_s, lat0, lon0)"
   ]
  },
  {
   "cell_type": "markdown",
   "metadata": {},
   "source": [
    "Initializations."
   ]
  },
  {
   "cell_type": "code",
   "execution_count": 8,
   "metadata": {},
   "outputs": [],
   "source": [
    "dtP_S = numpy.zeros((na, ns))\n",
    "dtP_PPP = numpy.zeros((na, ns))\n",
    "dtS_PPP = numpy.zeros((na, ns))\n",
    "dtP_3SH = numpy.zeros((na, ns))\n",
    "dtS_3SH = numpy.zeros((na, ns))\n",
    "dtP_PPSSS = numpy.zeros((na, ns))\n",
    "dtS_PPSSS = numpy.zeros((na, ns))\n",
    "dtP_5SH = numpy.zeros((na, ns))\n",
    "dtS_5SH = numpy.zeros((na, ns))"
   ]
  },
  {
   "cell_type": "markdown",
   "metadata": {},
   "source": [
    "Open output file."
   ]
  },
  {
   "cell_type": "code",
   "execution_count": 9,
   "metadata": {},
   "outputs": [],
   "source": [
    "output = open('TimeLagOnGrid.txt', 'w')"
   ]
  },
  {
   "cell_type": "markdown",
   "metadata": {},
   "source": [
    "Loop on arrays."
   ]
  },
  {
   "cell_type": "code",
   "execution_count": 10,
   "metadata": {},
   "outputs": [],
   "source": [
    "for i in range(0, na):\n",
    "    output.write('Array {}:\\n'.format(names_a[i]))\n",
    "    output.write('---------\\n')\n",
    "    # Compute the distances from the stations to the center of the (tremor sources) grid\n",
    "    (x_r, y_r) = latLon2xy(lat_r[i], lon_r[i], lat0, lon0)\n",
    "    # Initializations\n",
    "    tP = numpy.zeros((nr[i], ns))\n",
    "    tS = numpy.zeros((nr[i], ns))\n",
    "    tPPP = numpy.zeros((nr[i], ns))\n",
    "    t3SH = numpy.zeros((nr[i], ns))\n",
    "    tPPSSS = numpy.zeros((nr[i], ns))\n",
    "    t5SH = numpy.zeros((nr[i], ns))\n",
    "    # Loop on source position\n",
    "    for j in range(0, ns):\n",
    "        # Loop on stations\n",
    "        for k in range(0, nr[i]):\n",
    "            # Ray P\n",
    "            tP[k, j] = sqrt((x_r[k] - x_s[j]) ** 2.0 + (y_r[k] - y_s[j]) ** 2.0 + d_s[j] ** 2.0) / VpCC\n",
    "            # Ray S\n",
    "            tS[k, j] = sqrt((x_r[k] - x_s[j]) ** 2.0 + (y_r[k] - y_s[j]) ** 2.0 + d_s[j] ** 2.0) / VsCC\n",
    "            # Ray PPP\n",
    "            angle = computeAngle3(x_s[j], y_s[j], d_s[j], x_r[k], y_r[k], 'P', 'P', 'P')\n",
    "            tPPP[k, j] = computeTravelTime3(angle, x_s[j], y_s[j], d_s[j], x_r[k], y_r[k], 'P', 'P', 'P')\n",
    "            # Ray 3SH\n",
    "            angle = computeAngle3(x_s[j], y_s[j], d_s[j], x_r[k], y_r[k], 'S', 'S', 'S')\n",
    "            t3SH[k, j] = computeTravelTime3(angle, x_s[j], y_s[j], d_s[j], x_r[k], y_r[k], 'S', 'S', 'S')\n",
    "            # Ray PPSSS\n",
    "            angle = computeAngle5(x_s[j], y_s[j], d_s[j], x_r[k], y_r[k], 'P', 'P', 'S', 'S', 'S')\n",
    "            tPPSSS[k, j] = computeTravelTime5(angle, x_s[j], y_s[j], d_s[j], x_r[k], y_r[k], 'P', 'P', 'S', 'S', 'S')\n",
    "            # Ray 5SH\n",
    "            angle = computeAngle5(x_s[j], y_s[j], d_s[j], x_r[k], y_r[k], 'S', 'S', 'S', 'S', 'S')\n",
    "            t5SH[k, j] = computeTravelTime5(angle, x_s[j], y_s[j], d_s[j], x_r[k], y_r[k], 'S', 'S', 'S', 'S', 'S')\n",
    "        for k in range(0, nr[i] - 1):\n",
    "            for l in range(k + 1, nr[i]):\n",
    "                dtS_3SH[i, j] = dtS_3SH[i, j] + abs((t3SH[k, j] - tS[k, j]) - (t3SH[l, j] - tS[l, j]))\n",
    "                dtS_5SH[i, j] = dtS_5SH[i, j] + abs((t5SH[k, j] - tS[k, j]) - (t5SH[l, j] - tS[l, j]))\n",
    "                dtS_PPSSS[i, j] = dtS_PPSSS[i, j] + abs((tPPSSS[k, j] - tS[k, j]) - (tPPSSS[l, j] - tS[l, j]))\n",
    "                dtP_PPP[i, j] = dtP_PPP[i, j] + abs((tPPP[k, j] - tP[k, j]) - (tPPP[l, j] - tP[l, j]))\n",
    "                dtP_S[i, j] = dtP_S[i, j] + abs((tS[k, j] - tP[k, j]) - (tS[l, j] - tP[l, j]))\n",
    "                dtS_PPP[i, j] = dtS_PPP[i, j] + abs((tS[k, j] - tPPP[k, j]) - (tS[l, j] - tPPP[l, j]))\n",
    "                dtP_3SH[i, j] = dtP_3SH[i, j] + abs((t3SH[k, j] - tP[k, j]) - (t3SH[l, j] - tP[l, j]))\n",
    "                dtP_PPSSS[i, j] = dtP_PPSSS[i, j] + abs((tPPSSS[k, j] - tP[k, j]) - (tPPSSS[l, j] - tP[l, j]))\n",
    "                dtP_5SH[i, j] = dtP_5SH[i, j] + abs((t5SH[k, j] - tP[k, j]) - (t5SH[l, j] - tP[l, j]))\n",
    "        dtS_3SH[i, j] = dtS_3SH[i, j] * 2.0 / ((nr[i] - 1) * nr[i])\n",
    "        dtS_5SH[i, j] = dtS_5SH[i, j] * 2.0 / ((nr[i] - 1) * nr[i])\n",
    "        dtS_PPSSS[i, j] = dtS_PPSSS[i, j] * 2.0 / ((nr[i] - 1) * nr[i])\n",
    "        dtP_PPP[i, j] = dtP_PPP[i, j] * 2.0 / ((nr[i] - 1) * nr[i])\n",
    "        dtP_S[i, j] = dtP_S[i, j] * 2.0 / ((nr[i] - 1) * nr[i])\n",
    "        dtS_PPP[i, j] = dtS_PPP[i, j] * 2.0 / ((nr[i] - 1) * nr[i])\n",
    "        dtP_3SH[i, j] = dtP_3SH[i, j] * 2.0 / ((nr[i] - 1) * nr[i])\n",
    "        dtP_PPSSS[i, j] = dtP_PPSSS[i, j] * 2.0 / ((nr[i] - 1) * nr[i])\n",
    "        dtP_5SH[i, j] = dtP_5SH[i, j] * 2.0 / ((nr[i] - 1) * nr[i])\n",
    "\n",
    "    output.write('Autocorrelation - Horizontal component\\n')\n",
    "    output.write('\\n')\n",
    "    output.write('Time difference between S-wave and SH-wave (mid-slab)\\n')\n",
    "    output.write('Min value: {} s\\n'.format(numpy.min(dtS_3SH[i, :])))\n",
    "    output.write('Max value: {} s\\n'.format(numpy.max(dtS_3SH[i, :])))\n",
    "    output.write('Mean value: {} s\\n'.format(numpy.mean(dtS_3SH[i, :])))\n",
    "    output.write('\\n')\n",
    "    output.write('Time difference between S-wave and SH-wave (Moho)\\n')\n",
    "    output.write('Min value: {} s\\n'.format(numpy.min(dtS_5SH[i, :])))\n",
    "    output.write('Max value: {} s\\n'.format(numpy.max(dtS_5SH[i, :])))\n",
    "    output.write('Mean value: {} s\\n'.format(numpy.mean(dtS_5SH[i, :])))\n",
    "    output.write('\\n')\n",
    "    output.write('Time difference between S-wave and PPSSS-wave\\n')\n",
    "    output.write('Min value: {} s\\n'.format(numpy.min(dtS_PPSSS[i, :])))\n",
    "    output.write('Max value: {} s\\n'.format(numpy.max(dtS_PPSSS[i, :])))\n",
    "    output.write('Mean value: {} s\\n'.format(numpy.mean(dtS_PPSSS[i, :])))\n",
    "    output.write('\\n')\n",
    "\n",
    "    output.write('Autocorrelation - Vertical component\\n')\n",
    "    output.write('\\n')\n",
    "    output.write('Time difference between P-wave and PPP-wave\\n')\n",
    "    output.write('Min value: {} s\\n'.format(numpy.min(dtP_PPP[i, :])))\n",
    "    output.write('Max value: {} s\\n'.format(numpy.max(dtP_PPP[i, :])))\n",
    "    output.write('Mean value: {} s\\n'.format(numpy.mean(dtP_PPP[i, :])))\n",
    "    output.write('\\n')\n",
    "\n",
    "    output.write('Cross correlation - Horizontal and vertical component\\n')\n",
    "    output.write('\\n')\n",
    "    output.write('Time difference between S-wave and P-wave\\n')\n",
    "    output.write('Min value: {} s\\n'.format(numpy.min(dtP_S[i, :])))\n",
    "    output.write('Max value: {} s\\n'.format(numpy.max(dtP_S[i, :])))\n",
    "    output.write('Mean value: {} s\\n'.format(numpy.mean(dtP_S[i, :])))\n",
    "    output.write('\\n')   \n",
    "    output.write('Time difference between S-wave and PPP-wave\\n')\n",
    "    output.write('Min value: {} s\\n'.format(numpy.min(dtS_PPP[i, :])))\n",
    "    output.write('Max value: {} s\\n'.format(numpy.max(dtS_PPP[i, :])))\n",
    "    output.write('Mean value: {} s\\n'.format(numpy.mean(dtS_PPP[i, :])))\n",
    "    output.write('\\n')\n",
    "    output.write('Time difference between SH-wave (mid-slab) and P-wave\\n')\n",
    "    output.write('Min value: {} s\\n'.format(numpy.min(dtP_3SH[i, :])))\n",
    "    output.write('Max value: {} s\\n'.format(numpy.max(dtP_3SH[i, :])))\n",
    "    output.write('Mean value: {} s\\n'.format(numpy.mean(dtP_3SH[i, :])))\n",
    "    output.write('\\n')\n",
    "    output.write('Time difference between PPSSS-wave and P-wave\\n')\n",
    "    output.write('Min value: {} s\\n'.format(numpy.min(dtP_PPSSS[i, :])))\n",
    "    output.write('Max value: {} s\\n'.format(numpy.max(dtP_PPSSS[i, :])))\n",
    "    output.write('Mean value: {} s\\n'.format(numpy.mean(dtP_PPSSS[i, :])))\n",
    "    output.write('\\n')   \n",
    "    output.write('Time difference between SH-wave (Moho) and P-wave\\n')\n",
    "    output.write('Min value: {} s\\n'.format(numpy.min(dtP_5SH[i, :])))\n",
    "    output.write('Max value: {} s\\n'.format(numpy.max(dtP_5SH[i, :])))\n",
    "    output.write('Mean value: {} s\\n'.format(numpy.mean(dtP_5SH[i, :])))\n",
    "    output.write('\\n')"
   ]
  },
  {
   "cell_type": "markdown",
   "metadata": {},
   "source": [
    "Average on all arrays."
   ]
  },
  {
   "cell_type": "code",
   "execution_count": 11,
   "metadata": {},
   "outputs": [
    {
     "data": {
      "text/plain": [
       "1"
      ]
     },
     "execution_count": 11,
     "metadata": {},
     "output_type": "execute_result"
    }
   ],
   "source": [
    "output.write('All arrays:\\n')\n",
    "output.write('---------  \\n')\n",
    "\n",
    "output.write('Autocorrelation - Horizontal component\\n')\n",
    "output.write('\\n')\n",
    "output.write('Time difference between S-wave and SH-wave (mid-slab)\\n')\n",
    "output.write('Min value: {} s\\n'.format(numpy.min(dtS_3SH)))\n",
    "output.write('Max value: {} s\\n'.format(numpy.max(dtS_3SH)))\n",
    "output.write('Mean value: {} s\\n'.format(numpy.mean(dtS_3SH)))\n",
    "output.write('\\n')\n",
    "output.write('Time difference between S-wave and SH-wave (Moho)\\n')\n",
    "output.write('Min value: {} s\\n'.format(numpy.min(dtS_5SH)))\n",
    "output.write('Max value: {} s\\n'.format(numpy.max(dtS_5SH)))\n",
    "output.write('Mean value: {} s\\n'.format(numpy.mean(dtS_5SH)))\n",
    "output.write('\\n')\n",
    "output.write('Time difference between S-wave and PPSSS-wave\\n')\n",
    "output.write('Min value: {} s\\n'.format(numpy.min(dtS_PPSSS)))\n",
    "output.write('Max value: {} s\\n'.format(numpy.max(dtS_PPSSS)))\n",
    "output.write('Mean value: {} s\\n'.format(numpy.mean(dtS_PPSSS)))\n",
    "output.write('\\n')\n",
    "\n",
    "output.write('Autocorrelation - Vertical component\\n')\n",
    "output.write('\\n')\n",
    "output.write('Time difference between P-wave and PPP-wave\\n')\n",
    "output.write('Min value: {} s\\n'.format(numpy.min(dtP_PPP)))\n",
    "output.write('Max value: {} s\\n'.format(numpy.max(dtP_PPP)))\n",
    "output.write('Mean value: {} s\\n'.format(numpy.mean(dtP_PPP)))\n",
    "output.write('\\n')\n",
    "\n",
    "output.write('Cross correlation - Horizontal and vertical component\\n')\n",
    "output.write('\\n')\n",
    "output.write('Time difference between S-wave and P-wave\\n')\n",
    "output.write('Min value: {} s\\n'.format(numpy.min(dtP_S)))\n",
    "output.write('Max value: {} s\\n'.format(numpy.max(dtP_S)))\n",
    "output.write('Mean value: {} s\\n'.format(numpy.mean(dtP_S)))\n",
    "output.write('\\n')   \n",
    "output.write('Time difference between S-wave and PPP-wave\\n')\n",
    "output.write('Min value: {} s\\n'.format(numpy.min(dtS_PPP)))\n",
    "output.write('Max value: {} s\\n'.format(numpy.max(dtS_PPP)))\n",
    "output.write('Mean value: {} s\\n'.format(numpy.mean(dtS_PPP)))\n",
    "output.write('\\n')\n",
    "output.write('Time difference between SH-wave (mid-slab) and P-wave\\n')\n",
    "output.write('Min value: {} s\\n'.format(numpy.min(dtP_3SH)))\n",
    "output.write('Max value: {} s\\n'.format(numpy.max(dtP_3SH)))\n",
    "output.write('Mean value: {} s\\n'.format(numpy.mean(dtP_3SH)))\n",
    "output.write('\\n')\n",
    "output.write('Time difference between PPSSS-wave and P-wave\\n')\n",
    "output.write('Min value: {} s\\n'.format(numpy.min(dtP_PPSSS)))\n",
    "output.write('Max value: {} s\\n'.format(numpy.max(dtP_PPSSS)))\n",
    "output.write('Mean value: {} s\\n'.format(numpy.mean(dtP_PPSSS)))\n",
    "output.write('\\n')   \n",
    "output.write('Time difference between SH-wave (Moho) and P-wave\\n')\n",
    "output.write('Min value: {} s\\n'.format(numpy.min(dtP_5SH)))\n",
    "output.write('Max value: {} s\\n'.format(numpy.max(dtP_5SH)))\n",
    "output.write('Mean value: {} s\\n'.format(numpy.mean(dtP_5SH)))\n",
    "output.write('\\n')"
   ]
  },
  {
   "cell_type": "markdown",
   "metadata": {},
   "source": [
    "Close output file."
   ]
  },
  {
   "cell_type": "code",
   "execution_count": 12,
   "metadata": {},
   "outputs": [],
   "source": [
    "output.close()"
   ]
  },
  {
   "cell_type": "code",
   "execution_count": null,
   "metadata": {},
   "outputs": [],
   "source": []
  }
 ],
 "metadata": {
  "kernelspec": {
   "display_name": "Python 3",
   "language": "python",
   "name": "python3"
  },
  "language_info": {
   "codemirror_mode": {
    "name": "ipython",
    "version": 3
   },
   "file_extension": ".py",
   "mimetype": "text/x-python",
   "name": "python",
   "nbconvert_exporter": "python",
   "pygments_lexer": "ipython3",
   "version": "3.6.5"
  }
 },
 "nbformat": 4,
 "nbformat_minor": 2
}

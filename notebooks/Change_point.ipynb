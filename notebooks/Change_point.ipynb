{
 "cells": [
  {
   "cell_type": "markdown",
   "metadata": {},
   "source": [
    "# Using wavelet methods to analyze GPS recordings of slow slip events\n",
    "\n",
    "## Change-point detection using extremal phase wavelet filters\n",
    "\n",
    "We begin by importing the Python modules that we will need during the analysis."
   ]
  },
  {
   "cell_type": "code",
   "execution_count": 1,
   "metadata": {},
   "outputs": [],
   "source": [
    "import matplotlib.cm as cm\n",
    "import matplotlib.pyplot as plt\n",
    "import numpy as np\n",
    "\n",
    "from datetime import datetime\n",
    "from math import floor\n",
    "from scipy.io import loadmat\n",
    "\n",
    "import DWT\n",
    "import MODWT\n",
    "import date\n",
    "\n",
    "%matplotlib inline"
   ]
  },
  {
   "cell_type": "markdown",
   "metadata": {},
   "source": [
    "We perform the same preprocessing to the data that we have done for the DWT analysis."
   ]
  },
  {
   "cell_type": "code",
   "execution_count": 2,
   "metadata": {},
   "outputs": [],
   "source": [
    "# Choose the station\n",
    "station = 'PGC5'\n",
    "direction = 'lon'\n",
    "dataset = 'cleaned'\n",
    "filename = '../data/PANGA/' + dataset + '/' + station + '.' + direction\n",
    "# Load the data\n",
    "data = np.loadtxt(filename, skiprows=26)\n",
    "time = data[:, 0]\n",
    "disp = data[:, 1]\n",
    "# Correct for the repeated value\n",
    "dt = np.diff(time)\n",
    "gap = np.where(dt < 1.0 / 365.0 - 0.001)[0]\n",
    "time[gap[0] + 1] = time[gap[0] + 2]\n",
    "time[gap[0] + 2] = 0.5 * (time[gap[0] + 2] + time[gap[0] + 3])\n",
    "# Look for gaps greater than 2 days\n",
    "days = 2\n",
    "dt = np.diff(time)\n",
    "gap = np.where(dt > days / 365.0 + 0.001)[0]\n",
    "# Select a subset of the data without big gaps\n",
    "ibegin = 2189\n",
    "iend = 5102\n",
    "time_sub = time[ibegin + 1 : iend + 1]\n",
    "disp_sub = disp[ibegin + 1 : iend + 1]\n",
    "# Fill the missing values by interpolation\n",
    "dt = np.diff(time_sub)\n",
    "gap = np.where(dt > 1.0 / 365.0 + 0.001)[0]\n",
    "for i in range(0, len(gap)):\n",
    "    time_sub = np.insert(time_sub, gap[i] + 1, time_sub[gap[i]] + 1.0 / 365.0)\n",
    "    disp_sub = np.insert(disp_sub, gap[i] + 1, 0.5 * (disp_sub[gap[i]] + disp_sub[gap[i] + 1]))\n",
    "    gap[i : ] = gap[i : ] + 1"
   ]
  },
  {
   "cell_type": "markdown",
   "metadata": {},
   "source": [
    "We also need to download the tremor catalog."
   ]
  },
  {
   "cell_type": "code",
   "execution_count": 3,
   "metadata": {},
   "outputs": [],
   "source": [
    "# Load tremor data from the catalog downloaded from the PNSN\n",
    "filename = '../data/timelags/08_01_2009_11_26_2014.txt'\n",
    "day = np.loadtxt(filename, dtype=np.str, usecols=[0], skiprows=16)\n",
    "hour = np.loadtxt(filename, dtype=np.str, usecols=[1], skiprows=16)\n",
    "nt = np.shape(day)[0]\n",
    "time_tremor = np.zeros(nt)\n",
    "for i in range(0, nt):\n",
    "    time_tremor[i] = date.string2day(day[i], hour[i])\n",
    "location = np.loadtxt('../data/timelags/08_01_2009_11_26_2014.txt', usecols=[2, 3], skiprows=16)\n",
    "lat_tremor = location[:, 0]\n",
    "lon_tremor = location[:, 1]\n",
    "k = (lat_tremor >= 47.5) & (lat_tremor <= 49.5)"
   ]
  },
  {
   "cell_type": "markdown",
   "metadata": {},
   "source": [
    "We choose the maximum level for which we want to perform the MODWT analysis."
   ]
  },
  {
   "cell_type": "code",
   "execution_count": 4,
   "metadata": {},
   "outputs": [],
   "source": [
    "J = 7\n",
    "time = time_sub\n",
    "disp = disp_sub"
   ]
  },
  {
   "cell_type": "markdown",
   "metadata": {},
   "source": [
    "We begin by the first two points of the time series, we perform the MODWT analysis, and we keep the value of the last wavelet coefficients at each level. Then, at each time setpe, we add one additional velue to the time series, and we carry out the same procedure. We then look at the evolution with time of the last wavelet coefficient."
   ]
  },
  {
   "cell_type": "markdown",
   "metadata": {},
   "source": [
    "We initialize some variables."
   ]
  },
  {
   "cell_type": "code",
   "execution_count": 5,
   "metadata": {},
   "outputs": [],
   "source": [
    "N = np.shape(disp)[0]\n",
    "t0 = time[0]\n",
    "dt = 1.0 / 365.0\n",
    "Wlast = []\n",
    "for j in range(0, J):\n",
    "    Wlast.append(np.zeros(N - 1))"
   ]
  },
  {
   "cell_type": "code",
   "execution_count": 11,
   "metadata": {},
   "outputs": [
    {
     "ename": "KeyboardInterrupt",
     "evalue": "",
     "output_type": "error",
     "traceback": [
      "\u001b[0;31m---------------------------------------------------------------------------\u001b[0m",
      "\u001b[0;31mKeyboardInterrupt\u001b[0m                         Traceback (most recent call last)",
      "\u001b[0;32m<ipython-input-11-50eedc2cdaa5>\u001b[0m in \u001b[0;36m<module>\u001b[0;34m()\u001b[0m\n\u001b[1;32m      1\u001b[0m \u001b[0;32mfor\u001b[0m \u001b[0mi\u001b[0m \u001b[0;32min\u001b[0m \u001b[0mrange\u001b[0m\u001b[0;34m(\u001b[0m\u001b[0;36m2\u001b[0m\u001b[0;34m,\u001b[0m \u001b[0mN\u001b[0m \u001b[0;34m+\u001b[0m \u001b[0;36m1\u001b[0m\u001b[0;34m)\u001b[0m\u001b[0;34m:\u001b[0m\u001b[0;34m\u001b[0m\u001b[0m\n\u001b[0;32m----> 2\u001b[0;31m     \u001b[0;34m[\u001b[0m\u001b[0mW\u001b[0m\u001b[0;34m,\u001b[0m \u001b[0mV\u001b[0m\u001b[0;34m]\u001b[0m \u001b[0;34m=\u001b[0m \u001b[0mMODWT\u001b[0m\u001b[0;34m.\u001b[0m\u001b[0mpyramid\u001b[0m\u001b[0;34m(\u001b[0m\u001b[0mdisp\u001b[0m\u001b[0;34m[\u001b[0m\u001b[0;36m0\u001b[0m \u001b[0;34m:\u001b[0m \u001b[0mi\u001b[0m\u001b[0;34m]\u001b[0m\u001b[0;34m,\u001b[0m \u001b[0;34m'D20'\u001b[0m\u001b[0;34m,\u001b[0m \u001b[0mJ\u001b[0m\u001b[0;34m)\u001b[0m\u001b[0;34m\u001b[0m\u001b[0m\n\u001b[0m\u001b[1;32m      3\u001b[0m     \u001b[0;32mfor\u001b[0m \u001b[0mj\u001b[0m \u001b[0;32min\u001b[0m \u001b[0mrange\u001b[0m\u001b[0;34m(\u001b[0m\u001b[0;36m0\u001b[0m\u001b[0;34m,\u001b[0m \u001b[0mJ\u001b[0m\u001b[0;34m)\u001b[0m\u001b[0;34m:\u001b[0m\u001b[0;34m\u001b[0m\u001b[0m\n\u001b[1;32m      4\u001b[0m         \u001b[0mWj\u001b[0m \u001b[0;34m=\u001b[0m \u001b[0mW\u001b[0m\u001b[0;34m[\u001b[0m\u001b[0mj\u001b[0m\u001b[0;34m]\u001b[0m\u001b[0;34m\u001b[0m\u001b[0m\n\u001b[1;32m      5\u001b[0m         \u001b[0mWlast\u001b[0m\u001b[0;34m[\u001b[0m\u001b[0mj\u001b[0m\u001b[0;34m]\u001b[0m\u001b[0;34m[\u001b[0m\u001b[0mi\u001b[0m \u001b[0;34m-\u001b[0m \u001b[0;36m2\u001b[0m\u001b[0;34m]\u001b[0m \u001b[0;34m=\u001b[0m \u001b[0mWj\u001b[0m\u001b[0;34m[\u001b[0m\u001b[0;34m-\u001b[0m\u001b[0;36m1\u001b[0m\u001b[0;34m]\u001b[0m\u001b[0;34m\u001b[0m\u001b[0m\n",
      "\u001b[0;32m~/Documents/ResearchProject/ETSscripts/wmtsa/MODWT.py\u001b[0m in \u001b[0;36mpyramid\u001b[0;34m(X, name, J)\u001b[0m\n\u001b[1;32m    131\u001b[0m     \u001b[0mW\u001b[0m \u001b[0;34m=\u001b[0m \u001b[0;34m[\u001b[0m\u001b[0;34m]\u001b[0m\u001b[0;34m\u001b[0m\u001b[0m\n\u001b[1;32m    132\u001b[0m     \u001b[0;32mfor\u001b[0m \u001b[0mj\u001b[0m \u001b[0;32min\u001b[0m \u001b[0mrange\u001b[0m\u001b[0;34m(\u001b[0m\u001b[0;36m1\u001b[0m\u001b[0;34m,\u001b[0m \u001b[0;34m(\u001b[0m\u001b[0mJ\u001b[0m \u001b[0;34m+\u001b[0m \u001b[0;36m1\u001b[0m\u001b[0;34m)\u001b[0m\u001b[0;34m)\u001b[0m\u001b[0;34m:\u001b[0m\u001b[0;34m\u001b[0m\u001b[0m\n\u001b[0;32m--> 133\u001b[0;31m         \u001b[0;34m(\u001b[0m\u001b[0mWj\u001b[0m\u001b[0;34m,\u001b[0m \u001b[0mVj\u001b[0m\u001b[0;34m)\u001b[0m \u001b[0;34m=\u001b[0m \u001b[0mget_WV\u001b[0m\u001b[0;34m(\u001b[0m\u001b[0mh\u001b[0m\u001b[0;34m,\u001b[0m \u001b[0mg\u001b[0m\u001b[0;34m,\u001b[0m \u001b[0mj\u001b[0m\u001b[0;34m,\u001b[0m \u001b[0mVj\u001b[0m\u001b[0;34m)\u001b[0m\u001b[0;34m\u001b[0m\u001b[0m\n\u001b[0m\u001b[1;32m    134\u001b[0m         \u001b[0mW\u001b[0m\u001b[0;34m.\u001b[0m\u001b[0mappend\u001b[0m\u001b[0;34m(\u001b[0m\u001b[0mWj\u001b[0m\u001b[0;34m)\u001b[0m\u001b[0;34m\u001b[0m\u001b[0m\n\u001b[1;32m    135\u001b[0m     \u001b[0;32mreturn\u001b[0m \u001b[0;34m(\u001b[0m\u001b[0mW\u001b[0m\u001b[0;34m,\u001b[0m \u001b[0mVj\u001b[0m\u001b[0;34m)\u001b[0m\u001b[0;34m\u001b[0m\u001b[0m\n",
      "\u001b[0;32m~/Documents/ResearchProject/ETSscripts/wmtsa/MODWT.py\u001b[0m in \u001b[0;36mget_WV\u001b[0;34m(h, g, j, X)\u001b[0m\n\u001b[1;32m     69\u001b[0m             \u001b[0mindex\u001b[0m \u001b[0;34m=\u001b[0m \u001b[0;34m(\u001b[0m\u001b[0mt\u001b[0m \u001b[0;34m-\u001b[0m \u001b[0;34m(\u001b[0m\u001b[0;36m2\u001b[0m \u001b[0;34m**\u001b[0m \u001b[0;34m(\u001b[0m\u001b[0mj\u001b[0m \u001b[0;34m-\u001b[0m \u001b[0;36m1\u001b[0m\u001b[0;34m)\u001b[0m\u001b[0;34m)\u001b[0m \u001b[0;34m*\u001b[0m \u001b[0ml\u001b[0m\u001b[0;34m)\u001b[0m \u001b[0;34m%\u001b[0m \u001b[0mN\u001b[0m\u001b[0;34m\u001b[0m\u001b[0m\n\u001b[1;32m     70\u001b[0m             \u001b[0mW\u001b[0m\u001b[0;34m[\u001b[0m\u001b[0mt\u001b[0m\u001b[0;34m]\u001b[0m \u001b[0;34m=\u001b[0m \u001b[0mW\u001b[0m\u001b[0;34m[\u001b[0m\u001b[0mt\u001b[0m\u001b[0;34m]\u001b[0m \u001b[0;34m+\u001b[0m \u001b[0mh\u001b[0m\u001b[0;34m[\u001b[0m\u001b[0ml\u001b[0m\u001b[0;34m]\u001b[0m \u001b[0;34m*\u001b[0m \u001b[0mX\u001b[0m\u001b[0;34m[\u001b[0m\u001b[0mindex\u001b[0m\u001b[0;34m]\u001b[0m\u001b[0;34m\u001b[0m\u001b[0m\n\u001b[0;32m---> 71\u001b[0;31m             \u001b[0mV\u001b[0m\u001b[0;34m[\u001b[0m\u001b[0mt\u001b[0m\u001b[0;34m]\u001b[0m \u001b[0;34m=\u001b[0m \u001b[0mV\u001b[0m\u001b[0;34m[\u001b[0m\u001b[0mt\u001b[0m\u001b[0;34m]\u001b[0m \u001b[0;34m+\u001b[0m \u001b[0mg\u001b[0m\u001b[0;34m[\u001b[0m\u001b[0ml\u001b[0m\u001b[0;34m]\u001b[0m \u001b[0;34m*\u001b[0m \u001b[0mX\u001b[0m\u001b[0;34m[\u001b[0m\u001b[0mindex\u001b[0m\u001b[0;34m]\u001b[0m\u001b[0;34m\u001b[0m\u001b[0m\n\u001b[0m\u001b[1;32m     72\u001b[0m     \u001b[0;32mreturn\u001b[0m \u001b[0;34m(\u001b[0m\u001b[0mW\u001b[0m\u001b[0;34m,\u001b[0m \u001b[0mV\u001b[0m\u001b[0;34m)\u001b[0m\u001b[0;34m\u001b[0m\u001b[0m\n\u001b[1;32m     73\u001b[0m \u001b[0;34m\u001b[0m\u001b[0m\n",
      "\u001b[0;31mKeyboardInterrupt\u001b[0m: "
     ]
    }
   ],
   "source": [
    "for i in range(2, N + 1):\n",
    "    [W, V] = MODWT.pyramid(disp[0 : i], 'D20', J)\n",
    "    for j in range(0, J):\n",
    "        Wj = W[j]\n",
    "        Wlast[j][i - 2] = Wj[-1]"
   ]
  },
  {
   "cell_type": "code",
   "execution_count": null,
   "metadata": {},
   "outputs": [],
   "source": [
    "plt.figure(1, figsize=(15, (J + 1) * 4))\n",
    "\n",
    "# Plot data\n",
    "plt.subplot2grid((J + 1, 1), (J, 0))\n",
    "plt.plot(t0 + dt * np.arange(0, N), disp, 'k', label='Data')\n",
    "plt.xlim(np.min(time), np.max(time))\n",
    "plt.legend(loc=1)\n",
    "\n",
    "# Plot last wavelet coefficient at each level\n",
    "for j in range(0, J):\n",
    "    plt.subplot2grid((J + 1, 1), (J - j - 1, 0))\n",
    "    plt.plot(t0 + dt * np.arange(1, N), Wlast[j], 'k', label = 'Level ' + str(j))\n",
    "    plt.xlim(np.min(time), np.max(time))\n",
    "    plt.legend(loc=1)\n",
    "\n",
    "plt.show()"
   ]
  },
  {
   "cell_type": "code",
   "execution_count": 42,
   "metadata": {},
   "outputs": [
    {
     "data": {
      "image/png": "[encoded data removed]",
      "text/plain": [
       "<Figure size 1080x720 with 1 Axes>"
      ]
     },
     "metadata": {},
     "output_type": "display_data"
    }
   ],
   "source": [
    "Nstart = 1857\n",
    "Ndays = 365\n",
    "dt = 1.0 / 365.0\n",
    "plt.figure(1, figsize=(15, 10))\n",
    "#plt.subplot(211)\n",
    "for n in range(1, Ndays):\n",
    "    [W, V] = MODWT.pyramid(disp[Nstart - Ndays : Nstart + n], 'D20', J)\n",
    "    Wj = W[J - 1]\n",
    "    plt.plot(time[Nstart + n - 1], Wj[-1], 'ko')\n",
    "#plt.subplot(212)\n",
    "#nt = np.shape(time_tremor)[0]\n",
    "#plt.plot(np.sort(time_tremor), (1.0 / nt) * np.arange(0, len(time_tremor)))\n",
    "#plt.xlim(time[Nstart - Ndays], time[Nstart + Ndays - 1])\n",
    "#plt.ylim([0.4, 0.7])\n",
    "plt.show()"
   ]
  },
  {
   "cell_type": "code",
   "execution_count": null,
   "metadata": {},
   "outputs": [],
   "source": []
  }
 ],
 "metadata": {
  "kernelspec": {
   "display_name": "Python 3",
   "language": "python",
   "name": "python3"
  },
  "language_info": {
   "codemirror_mode": {
    "name": "ipython",
    "version": 3
   },
   "file_extension": ".py",
   "mimetype": "text/x-python",
   "name": "python",
   "nbconvert_exporter": "python",
   "pygments_lexer": "ipython3",
   "version": "3.6.5"
  }
 },
 "nbformat": 4,
 "nbformat_minor": 2
}

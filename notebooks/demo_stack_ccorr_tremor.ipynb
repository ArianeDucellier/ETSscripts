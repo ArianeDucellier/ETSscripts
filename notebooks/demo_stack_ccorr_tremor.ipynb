{
 "cells": [
  {
   "cell_type": "markdown",
   "metadata": {},
   "source": [
    "# Retrieving the time lag between P-wave arrival and S-wave arrival in seismic recordings of tectonic tremor\n",
    "\n",
    "## Looking at all the tremor from the same location\n",
    "\n",
    "One problem with the pevious method is that the source of the tremor is moving with time. Now, if we look at all the one-minute-long time windows where the source of the tremor is located at about the same given location, the time lag between the P-wave and the S-wave should always be the same.\n",
    "\n",
    "If we compute the cross correaltion of the vertical and the horizontal component, and then we stack over all the tremor windows, we should obtain a clear signal.\n",
    "\n",
    "That what we are going to do now."
   ]
  },
  {
   "cell_type": "markdown",
   "metadata": {},
   "source": [
    "We begin by importing the Python modules that we will need during the analysis."
   ]
  },
  {
   "cell_type": "code",
   "execution_count": 1,
   "metadata": {},
   "outputs": [],
   "source": [
    "import obspy\n",
    "import obspy.clients.earthworm.client as earthworm\n",
    "import obspy.clients.fdsn.client as fdsn\n",
    "from obspy import read_inventory\n",
    "from obspy import UTCDateTime\n",
    "from obspy.core.stream import Stream\n",
    "from obspy.signal.cross_correlation import correlate\n",
    "\n",
    "import matplotlib.pyplot as plt\n",
    "import numpy as np\n",
    "import pickle\n",
    "import sys\n",
    "\n",
    "from scipy.io import loadmat\n",
    "from math import pi, cos, sin, sqrt\n",
    "\n",
    "from date import matlab2ymdhms\n",
    "from stacking import linstack, powstack, PWstack\n",
    "\n",
    "%matplotlib inline"
   ]
  },
  {
   "cell_type": "markdown",
   "metadata": {},
   "source": [
    "We load the tremor catalog from A. Ghosh to know where and when we have tremor."
   ]
  },
  {
   "cell_type": "code",
   "execution_count": 2,
   "metadata": {},
   "outputs": [],
   "source": [
    "data = loadmat('../data/timelags/mbbp_cat_d_forHeidi')\n",
    "mbbp_cat_d = data['mbbp_cat_d']\n",
    "lat = mbbp_cat_d[:, 2]\n",
    "lon = mbbp_cat_d[:, 3]"
   ]
  },
  {
   "cell_type": "markdown",
   "metadata": {},
   "source": [
    "We choose to look at all the tremor located in a 5 km by 5 km square cell, centered around the array."
   ]
  },
  {
   "cell_type": "code",
   "execution_count": 3,
   "metadata": {},
   "outputs": [],
   "source": [
    "# Size and location of cell\n",
    "ds = 5.0\n",
    "x0 = 0.0\n",
    "y0 = 0.0\n",
    "# Location of the center of the array\n",
    "lat0 = 47.95728\n",
    "lon0 = -122.92866\n",
    "# Formula to convert degrees in latitude and longitude into kilometers\n",
    "a = 6378.136\n",
    "e = 0.006694470\n",
    "dx = (pi / 180.0) * a * cos(lat0 * pi / 180.0) / sqrt(1.0 - e * e * sin(lat0 * pi / 180.0) * sin(lat0 * pi / 180.0))\n",
    "dy = (3.6 * pi / 648.0) * a * (1.0 - e * e) / ((1.0 - e * e * sin(lat0 * pi / 180.0) * sin(lat0 * pi / 180.0)) ** 1.5)\n",
    "# Latitude and longitude of the edges of the square cell\n",
    "lonmin = lon0 + (x0 - 0.5 * ds) / dx\n",
    "lonmax = lon0 + (x0 + 0.5 * ds) / dx \n",
    "latmin = lat0 + (y0 - 0.5 * ds) / dy\n",
    "latmax = lat0 + (y0 + 0.5 * ds) / dy"
   ]
  },
  {
   "cell_type": "markdown",
   "metadata": {},
   "source": [
    "We now look at the time when we have tremor in this square cell."
   ]
  },
  {
   "cell_type": "code",
   "execution_count": 4,
   "metadata": {},
   "outputs": [
    {
     "name": "stdout",
     "output_type": "stream",
     "text": [
      "70\n"
     ]
    }
   ],
   "source": [
    "find = np.where((lat >= latmin) & (lat <= latmax) & (lon >= lonmin) & (lon <= lonmax))\n",
    "tremor = mbbp_cat_d[find, :][0, :, :]\n",
    "nt = np.shape(tremor)[0]\n",
    "print(nt)"
   ]
  },
  {
   "cell_type": "markdown",
   "metadata": {},
   "source": [
    "Tremor with a source located in this square cell were recorded during 70 minutes. That should be enough to have a good signal on the stack of the cross correlations. We are now going to choose one of the tremor window, and look at what the cross correlation look like."
   ]
  },
  {
   "cell_type": "code",
   "execution_count": 5,
   "metadata": {},
   "outputs": [],
   "source": [
    "i = 0"
   ]
  },
  {
   "cell_type": "markdown",
   "metadata": {},
   "source": [
    "We need to convert the beginning and end time of the time window we are interested in from the Matlab format to the Python format."
   ]
  },
  {
   "cell_type": "code",
   "execution_count": 6,
   "metadata": {},
   "outputs": [],
   "source": [
    "(YY1, MM1, DD1, HH1, mm1, ss1) = matlab2ymdhms(tremor[i, 0])\n",
    "t1 = UTCDateTime(str(YY1) + '-' + str(MM1) + '-' + str(DD1) + 'T' + str(HH1) + ':' + str(mm1) + ':' + str(ss1))\n",
    "(YY2, MM2, DD2, HH2, mm2, ss2) = matlab2ymdhms(tremor[i, 1])\n",
    "t2 = UTCDateTime(str(YY2) + '-' + str(MM2) + '-' + str(DD2) + 'T' + str(HH2) + ':' + str(mm2) + ':' + str(ss2))"
   ]
  },
  {
   "cell_type": "markdown",
   "metadata": {},
   "source": [
    "We are going to download 10 additional seconds of data before and after, in order to taper the signal."
   ]
  },
  {
   "cell_type": "code",
   "execution_count": 7,
   "metadata": {},
   "outputs": [],
   "source": [
    "Tstart = t1 - 10.0\n",
    "Tend = t2 - 10.0"
   ]
  },
  {
   "cell_type": "code",
   "execution_count": null,
   "metadata": {},
   "outputs": [],
   "source": []
  }
 ],
 "metadata": {
  "kernelspec": {
   "display_name": "Python 3",
   "language": "python",
   "name": "python3"
  },
  "language_info": {
   "codemirror_mode": {
    "name": "ipython",
    "version": 3
   },
   "file_extension": ".py",
   "mimetype": "text/x-python",
   "name": "python",
   "nbconvert_exporter": "python",
   "pygments_lexer": "ipython3",
   "version": "3.6.5"
  }
 },
 "nbformat": 4,
 "nbformat_minor": 2
}

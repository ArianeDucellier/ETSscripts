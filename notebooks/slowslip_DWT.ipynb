{
 "cells": [
  {
   "cell_type": "markdown",
   "metadata": {},
   "source": [
    "Write something about ETS"
   ]
  },
  {
   "cell_type": "markdown",
   "metadata": {},
   "source": [
    "Write something about GPS data"
   ]
  },
  {
   "cell_type": "code",
   "execution_count": 3,
   "metadata": {},
   "outputs": [],
   "source": [
    "# Load Python modules\n",
    "import matplotlib.pyplot as plt\n",
    "import numpy as np\n",
    "import DWT\n",
    "%matplotlib inline"
   ]
  },
  {
   "cell_type": "code",
   "execution_count": 4,
   "metadata": {},
   "outputs": [],
   "source": [
    "# Choice of station\n",
    "station = 'PGC5'\n",
    "direction = 'lon'\n",
    "dataset = 'detrended'\n",
    "filename = '../data/PANGA/' + dataset + '/' + station + '.' + direction"
   ]
  },
  {
   "cell_type": "code",
   "execution_count": 5,
   "metadata": {},
   "outputs": [
    {
     "name": "stdout",
     "output_type": "stream",
     "text": [
      "[2001.38809 2002.05339 2002.09446 2002.68857 2006.90212 2014.90212\n",
      " 2017.20192]\n",
      "(array([ 338,  577,  578,  655, 2189, 5102, 5937]),)\n"
     ]
    }
   ],
   "source": [
    "# Look for gaps in data\n",
    "days = 2\n",
    "data = np.loadtxt(filename, skiprows=26)\n",
    "time = data[:, 0]\n",
    "disp = data[:, 1]\n",
    "dt = np.diff(time)\n",
    "gap = np.where(dt > days / 365.0 + 0.001)\n",
    "print(time[gap])\n",
    "print(gap)"
   ]
  },
  {
   "cell_type": "code",
   "execution_count": 6,
   "metadata": {},
   "outputs": [],
   "source": [
    "# Select a subset of the data without big gaps\n",
    "ibegin = 2189\n",
    "iend = 5102\n",
    "time_sub = time[ibegin + 1 : iend + 1]\n",
    "disp_sub = time[ibegin + 1 : iend + 1]"
   ]
  },
  {
   "cell_type": "code",
   "execution_count": 9,
   "metadata": {},
   "outputs": [
    {
     "data": {
      "text/plain": [
       "(array([ 752,  753, 1763, 2143, 2460, 2637]),)"
      ]
     },
     "execution_count": 9,
     "metadata": {},
     "output_type": "execute_result"
    }
   ],
   "source": [
    "# Get all the gaps in the time vector, and insert additional values\n",
    "dt = np.diff(time_sub)\n",
    "gap = np.where(dt > 1.0 / 365.0 + 0.001)\n",
    "time_keep = np.copy(time_sub)\n",
    "for i in range(0, np.shape(gap)[1]):\n",
    "    new_time = np.insert(time_sub, gap[i] + 1, )"
   ]
  },
  {
   "cell_type": "code",
   "execution_count": 12,
   "metadata": {},
   "outputs": [
    {
     "data": {
      "text/plain": [
       "array([0.00548, 0.00548, 0.00548, 0.00548, 0.00547, 0.00547])"
      ]
     },
     "execution_count": 12,
     "metadata": {},
     "output_type": "execute_result"
    }
   ],
   "source": [
    "dt[gap]"
   ]
  },
  {
   "cell_type": "code",
   "execution_count": null,
   "metadata": {},
   "outputs": [],
   "source": [
    "values = np.arange(1.0 / 365.0, )"
   ]
  },
  {
   "cell_type": "code",
   "execution_count": null,
   "metadata": {},
   "outputs": [],
   "source": []
  }
 ],
 "metadata": {
  "kernelspec": {
   "display_name": "Python 3",
   "language": "python",
   "name": "python3"
  },
  "language_info": {
   "codemirror_mode": {
    "name": "ipython",
    "version": 3
   },
   "file_extension": ".py",
   "mimetype": "text/x-python",
   "name": "python",
   "nbconvert_exporter": "python",
   "pygments_lexer": "ipython3",
   "version": "3.6.5"
  }
 },
 "nbformat": 4,
 "nbformat_minor": 2
}

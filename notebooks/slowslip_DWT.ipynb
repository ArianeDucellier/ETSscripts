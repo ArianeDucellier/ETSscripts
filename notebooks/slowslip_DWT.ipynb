{
 "cells": [
  {
   "cell_type": "markdown",
   "metadata": {},
   "source": [
    "Write something about ETS"
   ]
  },
  {
   "cell_type": "markdown",
   "metadata": {},
   "source": [
    "Write something about GPS data"
   ]
  },
  {
   "cell_type": "code",
   "execution_count": 1,
   "metadata": {},
   "outputs": [
    {
     "ename": "SyntaxError",
     "evalue": "invalid syntax (DWT.py, line 305)",
     "output_type": "error",
     "traceback": [
      "Traceback \u001b[0;36m(most recent call last)\u001b[0m:\n",
      "  File \u001b[1;32m\"/anaconda3/envs/seismic/lib/python3.6/site-packages/IPython/core/interactiveshell.py\"\u001b[0m, line \u001b[1;32m2963\u001b[0m, in \u001b[1;35mrun_code\u001b[0m\n    exec(code_obj, self.user_global_ns, self.user_ns)\n",
      "\u001b[0;36m  File \u001b[0;32m\"<ipython-input-1-6f41d731d215>\"\u001b[0;36m, line \u001b[0;32m5\u001b[0;36m, in \u001b[0;35m<module>\u001b[0;36m\u001b[0m\n\u001b[0;31m    import DWT\u001b[0m\n",
      "\u001b[0;36m  File \u001b[0;32m\"/Users/ariane/Documents/ResearchProject/ETSscripts/wmtsa/DWT.py\"\u001b[0;36m, line \u001b[0;32m305\u001b[0m\n\u001b[0;31m    Vj = W[-int(N / (2 ** J)) : ]\u001b[0m\n\u001b[0m     ^\u001b[0m\n\u001b[0;31mSyntaxError\u001b[0m\u001b[0;31m:\u001b[0m invalid syntax\n"
     ]
    }
   ],
   "source": [
    "# Load Python modules\n",
    "import matplotlib.cm as cm\n",
    "import matplotlib.pyplot as plt\n",
    "import numpy as np\n",
    "import DWT\n",
    "\n",
    "%matplotlib inline"
   ]
  },
  {
   "cell_type": "code",
   "execution_count": null,
   "metadata": {},
   "outputs": [],
   "source": [
    "# Choice of station\n",
    "station = 'PGC5'\n",
    "direction = 'lon'\n",
    "dataset = 'cleaned'\n",
    "filename = '../data/PANGA/' + dataset + '/' + station + '.' + direction"
   ]
  },
  {
   "cell_type": "code",
   "execution_count": null,
   "metadata": {},
   "outputs": [],
   "source": [
    "# Load the data\n",
    "data = np.loadtxt(filename, skiprows=26)\n",
    "time = data[:, 0]\n",
    "disp = data[:, 1]"
   ]
  },
  {
   "cell_type": "code",
   "execution_count": null,
   "metadata": {},
   "outputs": [],
   "source": [
    "# Look for repeated times\n",
    "dt = np.diff(time)\n",
    "gap = np.where(dt < 1.0 / 365.0 - 0.001)[0]\n",
    "print(gap)"
   ]
  },
  {
   "cell_type": "code",
   "execution_count": null,
   "metadata": {},
   "outputs": [],
   "source": [
    "# Look at the values around this time\n",
    "print(time[gap[0] - 2 : gap[0] + 4])\n",
    "print(dt[gap[0] - 2 : gap[0] + 4])"
   ]
  },
  {
   "cell_type": "code",
   "execution_count": null,
   "metadata": {},
   "outputs": [],
   "source": [
    "# Clean the data around this time\n",
    "time[gap[0] + 1] = time[gap[0] + 2]\n",
    "time[gap[0] + 2] = 0.5 * (time[gap[0] + 2] + time[gap[0] + 3])\n",
    "print(time[gap[0] - 2 : gap[0] + 4])"
   ]
  },
  {
   "cell_type": "code",
   "execution_count": null,
   "metadata": {},
   "outputs": [],
   "source": [
    "# Look for gaps larger than 2 days in the data\n",
    "days = 2\n",
    "dt = np.diff(time)\n",
    "gap = np.where(dt > days / 365.0 + 0.001)[0]\n",
    "print(time[gap])\n",
    "print(gap)"
   ]
  },
  {
   "cell_type": "code",
   "execution_count": null,
   "metadata": {},
   "outputs": [],
   "source": [
    "# Select a subset of the data without big gaps\n",
    "ibegin = 2189\n",
    "iend = 5102\n",
    "time_sub = time[ibegin + 1 : iend + 1]\n",
    "disp_sub = disp[ibegin + 1 : iend + 1]"
   ]
  },
  {
   "cell_type": "code",
   "execution_count": null,
   "metadata": {},
   "outputs": [],
   "source": [
    "# Get all gaps in the new data subset\n",
    "dt = np.diff(time_sub)\n",
    "gap = np.where(dt > 1.0 / 365.0 + 0.001)[0]\n",
    "print(gap)"
   ]
  },
  {
   "cell_type": "code",
   "execution_count": null,
   "metadata": {},
   "outputs": [],
   "source": [
    "# Insert additional values into the data\n",
    "for i in range(0, len(gap)):\n",
    "    time_sub = np.insert(time_sub, gap[i] + 1, time_sub[gap[i]] + 1.0 / 365.0)\n",
    "    disp_sub = np.insert(disp_sub, gap[i] + 1, 0.5 * (disp_sub[gap[i]] + disp_sub[gap[i] + 1]))\n",
    "    gap = gap + 1"
   ]
  },
  {
   "cell_type": "code",
   "execution_count": null,
   "metadata": {},
   "outputs": [],
   "source": [
    "# Get the final length of the data\n",
    "print(len(time_sub))\n",
    "print(time_sub[0])\n",
    "print(time_sub[-1])"
   ]
  },
  {
   "cell_type": "code",
   "execution_count": null,
   "metadata": {},
   "outputs": [],
   "source": [
    "# As there is a slow slip event in January 2007, we keep the beginning of the data\n",
    "# We make sure that the number of data is proportional to 2**9\n",
    "time = time_sub[0 : 5 * 2**9]\n",
    "disp = disp_sub[0 : 5 * 2**9]"
   ]
  },
  {
   "cell_type": "code",
   "execution_count": null,
   "metadata": {},
   "outputs": [],
   "source": [
    "# Now let us compare the NPES of the DWT cefficients for different wavelet filters\n",
    "def plot_NPES(X, names, J, xmax, title):\n",
    "    \"\"\" Plot NPES of DEWT coefficients\n",
    "        X = Time series\n",
    "        names = List of wavelet filters\n",
    "        J = Level of DWT\n",
    "        xmax = Maximum limit of x-axis for plot\n",
    "        title = Plot title\n",
    "    \"\"\"\n",
    "    fig, ax = plt.subplots(figsize=(15, 10))\n",
    "    C = DWT.NPES(X)\n",
    "    plt.plot(np.arange(0, len(C), 1), C, 'k', label='Data')\n",
    "    colors = cm.rainbow(np.linspace(0, 1, len(names)))\n",
    "    for name, c in zip(names, colors):\n",
    "        W = DWT.pyramid(X, name, J)\n",
    "        C = DWT.NPES(W)\n",
    "        plt.plot(np.arange(0, len(C), 1), C, color=c, label=name)\n",
    "    plt.xlim(0, xmax)\n",
    "    plt.title(title, fontsize=24)\n",
    "    plt.xlabel('Number of coefficients', fontsize=24)\n",
    "    plt.ylabel('NPES', fontsize=24)\n",
    "    plt.legend()"
   ]
  },
  {
   "cell_type": "code",
   "execution_count": null,
   "metadata": {},
   "outputs": [],
   "source": [
    "plot_NPES(disp, ['Haar', 'D4', 'D6', 'D8', 'D10', 'D12', 'D14', 'D16', 'D18', 'D20'], 9, 20, \\\n",
    "    'Extremal phase scaling filters')"
   ]
  },
  {
   "cell_type": "code",
   "execution_count": null,
   "metadata": {},
   "outputs": [],
   "source": [
    "plot_NPES(disp, ['LA8', 'LA10', 'LA12', 'LA14', 'LA16', 'LA18', 'LA20'], 9, 20, \\\n",
    "    'Least asymmetric scaling filters')"
   ]
  },
  {
   "cell_type": "code",
   "execution_count": null,
   "metadata": {},
   "outputs": [],
   "source": [
    "plot_NPES(disp, ['BL14', 'BL18', 'BL20'], 9, 20, \\\n",
    "    'Best localized scaling filters')"
   ]
  },
  {
   "cell_type": "code",
   "execution_count": null,
   "metadata": {},
   "outputs": [],
   "source": [
    "plot_NPES(disp, ['C6', 'C12', 'C18', 'C24', 'C30'], 9, 20, \\\n",
    "    'Coiflet scaling filters')"
   ]
  },
  {
   "cell_type": "code",
   "execution_count": null,
   "metadata": {},
   "outputs": [],
   "source": [
    "plot_NPES(disp, ['D18', 'LA20', 'BL20', 'C30'], 9, 20, \\\n",
    "    'Best filters from each family')"
   ]
  },
  {
   "cell_type": "code",
   "execution_count": null,
   "metadata": {},
   "outputs": [],
   "source": [
    "DWT.plot_W(disp, 'LA8', 9)"
   ]
  }
 ],
 "metadata": {
  "kernelspec": {
   "display_name": "Python 3",
   "language": "python",
   "name": "python3"
  },
  "language_info": {
   "codemirror_mode": {
    "name": "ipython",
    "version": 3
   },
   "file_extension": ".py",
   "mimetype": "text/x-python",
   "name": "python",
   "nbconvert_exporter": "python",
   "pygments_lexer": "ipython3",
   "version": "3.6.5"
  }
 },
 "nbformat": 4,
 "nbformat_minor": 2
}
